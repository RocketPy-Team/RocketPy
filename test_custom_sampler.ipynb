{
 "cells": [
  {
   "cell_type": "code",
   "execution_count": 20,
   "metadata": {},
   "outputs": [
    {
     "name": "stdout",
     "output_type": "stream",
     "text": [
      "The autoreload extension is already loaded. To reload it, use:\n",
      "  %reload_ext autoreload\n"
     ]
    }
   ],
   "source": [
    "# We import these lines for debugging purposes, only works on Jupyter Notebook\n",
    "%load_ext autoreload\n",
    "%autoreload 2"
   ]
  },
  {
   "cell_type": "code",
   "execution_count": 21,
   "metadata": {},
   "outputs": [],
   "source": [
    "from matplotlib import pyplot as plt\n",
    "import numpy as np\n",
    "from rocketpy import SolidMotor, StochasticSolidMotor, CustomSampler"
   ]
  },
  {
   "cell_type": "code",
   "execution_count": 22,
   "metadata": {},
   "outputs": [],
   "source": [
    "class GaussianMixture(CustomSampler):\n",
    "\n",
    "    def __init__(self, means_tuple, sd_tuple, prob_tuple, seed = None):\n",
    "        \"\"\" Creates a sampler for a mixture of two Gaussians\n",
    "\n",
    "        Parameters\n",
    "        ----------\n",
    "        means_tuple : 2-tuple\n",
    "            2-Tuple that contains the mean of each normal distribution of the\n",
    "            mixture\n",
    "        sd_tuple : 2-tuple\n",
    "            2-Tuple that contains the sd of each normal distribution of the\n",
    "            mixture\n",
    "        prob_tuple : 2-tuple\n",
    "            2-Tuple that contains the probability of each normal distribution of the\n",
    "            mixture\n",
    "        \"\"\"\n",
    "        np.random.default_rng(seed)\n",
    "        self.means_tuple = means_tuple\n",
    "        self.sd_tuple = sd_tuple\n",
    "        self.prob_tuple = prob_tuple\n",
    "    \n",
    "    def sample(self, n_samples = 1):\n",
    "        sample_list = [0] * n_samples\n",
    "        mixture_id_list = np.random.binomial(1, self.prob_tuple[0], n_samples)\n",
    "        for i, mixture_id in enumerate(mixture_id_list):\n",
    "            if mixture_id:\n",
    "                sample_list[i] = np.random.normal(self.means_tuple[0], self.sd_tuple[0])\n",
    "            else:\n",
    "                sample_list[i] = np.random.normal(self.means_tuple[1], self.sd_tuple[1])\n",
    "\n",
    "        return sample_list\n",
    "    \n",
    "    def reset_seed(self, seed=None):\n",
    "        np.random.default_rng(seed)"
   ]
  },
  {
   "cell_type": "code",
   "execution_count": 23,
   "metadata": {},
   "outputs": [],
   "source": [
    "total_impulse_sampler = GaussianMixture([6000, 7000], [200, 200], [0.5, 0.5])"
   ]
  },
  {
   "cell_type": "code",
   "execution_count": 24,
   "metadata": {},
   "outputs": [],
   "source": [
    "motor = SolidMotor(\n",
    "    thrust_source=\"data/motors/cesaroni/Cesaroni_M1670.eng\",\n",
    "    dry_mass=1.815,\n",
    "    dry_inertia=(0.125, 0.125, 0.002),\n",
    "    nozzle_radius=33 / 1000,\n",
    "    grain_number=5,\n",
    "    grain_density=1815,\n",
    "    grain_outer_radius=33 / 1000,\n",
    "    grain_initial_inner_radius=15 / 1000,\n",
    "    grain_initial_height=120 / 1000,\n",
    "    grain_separation=5 / 1000,\n",
    "    grains_center_of_mass_position=0.397,\n",
    "    center_of_dry_mass_position=0.317,\n",
    "    nozzle_position=0,\n",
    "    burn_time=3.9,\n",
    "    throat_radius=11 / 1000,\n",
    "    coordinate_system_orientation=\"nozzle_to_combustion_chamber\",\n",
    ")"
   ]
  },
  {
   "cell_type": "code",
   "execution_count": null,
   "metadata": {},
   "outputs": [
    {
     "ename": "AssertionError",
     "evalue": "'total_impulse' must be a tuple, list, int, or float",
     "output_type": "error",
     "traceback": [
      "\u001b[0;31m---------------------------------------------------------------------------\u001b[0m",
      "\u001b[0;31mAssertionError\u001b[0m                            Traceback (most recent call last)",
      "Cell \u001b[0;32mIn[26], line 1\u001b[0m\n\u001b[0;32m----> 1\u001b[0m stochastic_motor \u001b[38;5;241m=\u001b[39m \u001b[43mStochasticSolidMotor\u001b[49m\u001b[43m(\u001b[49m\n\u001b[1;32m      2\u001b[0m \u001b[43m    \u001b[49m\u001b[43msolid_motor\u001b[49m\u001b[38;5;241;43m=\u001b[39;49m\u001b[43mmotor\u001b[49m\u001b[43m,\u001b[49m\n\u001b[1;32m      3\u001b[0m \u001b[43m    \u001b[49m\u001b[43mburn_start_time\u001b[49m\u001b[38;5;241;43m=\u001b[39;49m\u001b[43m(\u001b[49m\u001b[38;5;241;43m0\u001b[39;49m\u001b[43m,\u001b[49m\u001b[43m \u001b[49m\u001b[38;5;241;43m0.1\u001b[39;49m\u001b[43m,\u001b[49m\u001b[43m \u001b[49m\u001b[38;5;124;43m\"\u001b[39;49m\u001b[38;5;124;43mbinomial\u001b[39;49m\u001b[38;5;124;43m\"\u001b[39;49m\u001b[43m)\u001b[49m\u001b[43m,\u001b[49m\n\u001b[1;32m      4\u001b[0m \u001b[43m    \u001b[49m\u001b[43mgrains_center_of_mass_position\u001b[49m\u001b[38;5;241;43m=\u001b[39;49m\u001b[38;5;241;43m0.001\u001b[39;49m\u001b[43m,\u001b[49m\n\u001b[1;32m      5\u001b[0m \u001b[43m    \u001b[49m\u001b[43mgrain_density\u001b[49m\u001b[38;5;241;43m=\u001b[39;49m\u001b[38;5;241;43m50\u001b[39;49m\u001b[43m,\u001b[49m\n\u001b[1;32m      6\u001b[0m \u001b[43m    \u001b[49m\u001b[43mgrain_separation\u001b[49m\u001b[38;5;241;43m=\u001b[39;49m\u001b[38;5;241;43m1\u001b[39;49m\u001b[43m \u001b[49m\u001b[38;5;241;43m/\u001b[39;49m\u001b[43m \u001b[49m\u001b[38;5;241;43m1000\u001b[39;49m\u001b[43m,\u001b[49m\n\u001b[1;32m      7\u001b[0m \u001b[43m    \u001b[49m\u001b[43mgrain_initial_height\u001b[49m\u001b[38;5;241;43m=\u001b[39;49m\u001b[38;5;241;43m1\u001b[39;49m\u001b[43m \u001b[49m\u001b[38;5;241;43m/\u001b[39;49m\u001b[43m \u001b[49m\u001b[38;5;241;43m1000\u001b[39;49m\u001b[43m,\u001b[49m\n\u001b[1;32m      8\u001b[0m \u001b[43m    \u001b[49m\u001b[43mgrain_initial_inner_radius\u001b[49m\u001b[38;5;241;43m=\u001b[39;49m\u001b[38;5;241;43m0.375\u001b[39;49m\u001b[43m \u001b[49m\u001b[38;5;241;43m/\u001b[39;49m\u001b[43m \u001b[49m\u001b[38;5;241;43m1000\u001b[39;49m\u001b[43m,\u001b[49m\n\u001b[1;32m      9\u001b[0m \u001b[43m    \u001b[49m\u001b[43mgrain_outer_radius\u001b[49m\u001b[38;5;241;43m=\u001b[39;49m\u001b[38;5;241;43m0.375\u001b[39;49m\u001b[43m \u001b[49m\u001b[38;5;241;43m/\u001b[39;49m\u001b[43m \u001b[49m\u001b[38;5;241;43m1000\u001b[39;49m\u001b[43m,\u001b[49m\n\u001b[1;32m     10\u001b[0m \u001b[43m    \u001b[49m\u001b[43mtotal_impulse\u001b[49m\u001b[38;5;241;43m=\u001b[39;49m\u001b[43mtotal_impulse_sampler\u001b[49m\u001b[43m,\u001b[49m\n\u001b[1;32m     11\u001b[0m \u001b[43m    \u001b[49m\u001b[43mthroat_radius\u001b[49m\u001b[38;5;241;43m=\u001b[39;49m\u001b[38;5;241;43m0.5\u001b[39;49m\u001b[43m \u001b[49m\u001b[38;5;241;43m/\u001b[39;49m\u001b[43m \u001b[49m\u001b[38;5;241;43m1000\u001b[39;49m\u001b[43m,\u001b[49m\n\u001b[1;32m     12\u001b[0m \u001b[43m    \u001b[49m\u001b[43mnozzle_radius\u001b[49m\u001b[38;5;241;43m=\u001b[39;49m\u001b[38;5;241;43m0.5\u001b[39;49m\u001b[43m \u001b[49m\u001b[38;5;241;43m/\u001b[39;49m\u001b[43m \u001b[49m\u001b[38;5;241;43m1000\u001b[39;49m\u001b[43m,\u001b[49m\n\u001b[1;32m     13\u001b[0m \u001b[43m    \u001b[49m\u001b[43mnozzle_position\u001b[49m\u001b[38;5;241;43m=\u001b[39;49m\u001b[38;5;241;43m0.001\u001b[39;49m\u001b[43m,\u001b[49m\n\u001b[1;32m     14\u001b[0m \u001b[43m)\u001b[49m\n\u001b[1;32m     15\u001b[0m \u001b[38;5;66;03m#stochastic_motor.visualize_attributes()\u001b[39;00m\n",
      "File \u001b[0;32m~/Desktop/Work/RocketPy/RocketPy/rocketpy/stochastic/stochastic_solid_motor.py:149\u001b[0m, in \u001b[0;36mStochasticSolidMotor.__init__\u001b[0;34m(self, solid_motor, thrust_source, total_impulse, burn_start_time, burn_out_time, dry_mass, dry_inertia_11, dry_inertia_22, dry_inertia_33, dry_inertia_12, dry_inertia_13, dry_inertia_23, nozzle_radius, grain_number, grain_density, grain_outer_radius, grain_initial_inner_radius, grain_initial_height, grain_separation, grains_center_of_mass_position, center_of_dry_mass_position, nozzle_position, throat_radius)\u001b[0m\n\u001b[1;32m     68\u001b[0m \u001b[38;5;28;01mdef\u001b[39;00m \u001b[38;5;21m__init__\u001b[39m(\n\u001b[1;32m     69\u001b[0m     \u001b[38;5;28mself\u001b[39m,\n\u001b[1;32m     70\u001b[0m     solid_motor,\n\u001b[0;32m   (...)\u001b[0m\n\u001b[1;32m     92\u001b[0m     throat_radius\u001b[38;5;241m=\u001b[39m\u001b[38;5;28;01mNone\u001b[39;00m,\n\u001b[1;32m     93\u001b[0m ):\n\u001b[1;32m     94\u001b[0m \u001b[38;5;250m    \u001b[39m\u001b[38;5;124;03m\"\"\"Initializes the Stochastic Solid Motor class.\u001b[39;00m\n\u001b[1;32m     95\u001b[0m \n\u001b[1;32m     96\u001b[0m \u001b[38;5;124;03m    See Also\u001b[39;00m\n\u001b[0;32m   (...)\u001b[0m\n\u001b[1;32m    147\u001b[0m \u001b[38;5;124;03m        Radius of the throat in the motor in meters.\u001b[39;00m\n\u001b[1;32m    148\u001b[0m \u001b[38;5;124;03m    \"\"\"\u001b[39;00m\n\u001b[0;32m--> 149\u001b[0m     \u001b[38;5;28;43msuper\u001b[39;49m\u001b[43m(\u001b[49m\u001b[43m)\u001b[49m\u001b[38;5;241;43m.\u001b[39;49m\u001b[38;5;21;43m__init__\u001b[39;49m\u001b[43m(\u001b[49m\n\u001b[1;32m    150\u001b[0m \u001b[43m        \u001b[49m\u001b[43msolid_motor\u001b[49m\u001b[43m,\u001b[49m\n\u001b[1;32m    151\u001b[0m \u001b[43m        \u001b[49m\u001b[43mthrust_source\u001b[49m\u001b[38;5;241;43m=\u001b[39;49m\u001b[43mthrust_source\u001b[49m\u001b[43m,\u001b[49m\n\u001b[1;32m    152\u001b[0m \u001b[43m        \u001b[49m\u001b[43mtotal_impulse\u001b[49m\u001b[38;5;241;43m=\u001b[39;49m\u001b[43mtotal_impulse\u001b[49m\u001b[43m,\u001b[49m\n\u001b[1;32m    153\u001b[0m \u001b[43m        \u001b[49m\u001b[43mburn_start_time\u001b[49m\u001b[38;5;241;43m=\u001b[39;49m\u001b[43mburn_start_time\u001b[49m\u001b[43m,\u001b[49m\n\u001b[1;32m    154\u001b[0m \u001b[43m        \u001b[49m\u001b[43mburn_out_time\u001b[49m\u001b[38;5;241;43m=\u001b[39;49m\u001b[43mburn_out_time\u001b[49m\u001b[43m,\u001b[49m\n\u001b[1;32m    155\u001b[0m \u001b[43m        \u001b[49m\u001b[43mdry_mass\u001b[49m\u001b[38;5;241;43m=\u001b[39;49m\u001b[43mdry_mass\u001b[49m\u001b[43m,\u001b[49m\n\u001b[1;32m    156\u001b[0m \u001b[43m        \u001b[49m\u001b[43mdry_I_11\u001b[49m\u001b[38;5;241;43m=\u001b[39;49m\u001b[43mdry_inertia_11\u001b[49m\u001b[43m,\u001b[49m\n\u001b[1;32m    157\u001b[0m \u001b[43m        \u001b[49m\u001b[43mdry_I_22\u001b[49m\u001b[38;5;241;43m=\u001b[39;49m\u001b[43mdry_inertia_22\u001b[49m\u001b[43m,\u001b[49m\n\u001b[1;32m    158\u001b[0m \u001b[43m        \u001b[49m\u001b[43mdry_I_33\u001b[49m\u001b[38;5;241;43m=\u001b[39;49m\u001b[43mdry_inertia_33\u001b[49m\u001b[43m,\u001b[49m\n\u001b[1;32m    159\u001b[0m \u001b[43m        \u001b[49m\u001b[43mdry_I_12\u001b[49m\u001b[38;5;241;43m=\u001b[39;49m\u001b[43mdry_inertia_12\u001b[49m\u001b[43m,\u001b[49m\n\u001b[1;32m    160\u001b[0m \u001b[43m        \u001b[49m\u001b[43mdry_I_13\u001b[49m\u001b[38;5;241;43m=\u001b[39;49m\u001b[43mdry_inertia_13\u001b[49m\u001b[43m,\u001b[49m\n\u001b[1;32m    161\u001b[0m \u001b[43m        \u001b[49m\u001b[43mdry_I_23\u001b[49m\u001b[38;5;241;43m=\u001b[39;49m\u001b[43mdry_inertia_23\u001b[49m\u001b[43m,\u001b[49m\n\u001b[1;32m    162\u001b[0m \u001b[43m        \u001b[49m\u001b[43mnozzle_radius\u001b[49m\u001b[38;5;241;43m=\u001b[39;49m\u001b[43mnozzle_radius\u001b[49m\u001b[43m,\u001b[49m\n\u001b[1;32m    163\u001b[0m \u001b[43m        \u001b[49m\u001b[43mgrain_number\u001b[49m\u001b[38;5;241;43m=\u001b[39;49m\u001b[43mgrain_number\u001b[49m\u001b[43m,\u001b[49m\n\u001b[1;32m    164\u001b[0m \u001b[43m        \u001b[49m\u001b[43mgrain_density\u001b[49m\u001b[38;5;241;43m=\u001b[39;49m\u001b[43mgrain_density\u001b[49m\u001b[43m,\u001b[49m\n\u001b[1;32m    165\u001b[0m \u001b[43m        \u001b[49m\u001b[43mgrain_outer_radius\u001b[49m\u001b[38;5;241;43m=\u001b[39;49m\u001b[43mgrain_outer_radius\u001b[49m\u001b[43m,\u001b[49m\n\u001b[1;32m    166\u001b[0m \u001b[43m        \u001b[49m\u001b[43mgrain_initial_inner_radius\u001b[49m\u001b[38;5;241;43m=\u001b[39;49m\u001b[43mgrain_initial_inner_radius\u001b[49m\u001b[43m,\u001b[49m\n\u001b[1;32m    167\u001b[0m \u001b[43m        \u001b[49m\u001b[43mgrain_initial_height\u001b[49m\u001b[38;5;241;43m=\u001b[39;49m\u001b[43mgrain_initial_height\u001b[49m\u001b[43m,\u001b[49m\n\u001b[1;32m    168\u001b[0m \u001b[43m        \u001b[49m\u001b[43mgrain_separation\u001b[49m\u001b[38;5;241;43m=\u001b[39;49m\u001b[43mgrain_separation\u001b[49m\u001b[43m,\u001b[49m\n\u001b[1;32m    169\u001b[0m \u001b[43m        \u001b[49m\u001b[43mgrains_center_of_mass_position\u001b[49m\u001b[38;5;241;43m=\u001b[39;49m\u001b[43mgrains_center_of_mass_position\u001b[49m\u001b[43m,\u001b[49m\n\u001b[1;32m    170\u001b[0m \u001b[43m        \u001b[49m\u001b[43mcenter_of_dry_mass_position\u001b[49m\u001b[38;5;241;43m=\u001b[39;49m\u001b[43mcenter_of_dry_mass_position\u001b[49m\u001b[43m,\u001b[49m\n\u001b[1;32m    171\u001b[0m \u001b[43m        \u001b[49m\u001b[43mnozzle_position\u001b[49m\u001b[38;5;241;43m=\u001b[39;49m\u001b[43mnozzle_position\u001b[49m\u001b[43m,\u001b[49m\n\u001b[1;32m    172\u001b[0m \u001b[43m        \u001b[49m\u001b[43mthroat_radius\u001b[49m\u001b[38;5;241;43m=\u001b[39;49m\u001b[43mthroat_radius\u001b[49m\u001b[43m,\u001b[49m\n\u001b[1;32m    173\u001b[0m \u001b[43m        \u001b[49m\u001b[43minterpolate\u001b[49m\u001b[38;5;241;43m=\u001b[39;49m\u001b[38;5;28;43;01mNone\u001b[39;49;00m\u001b[43m,\u001b[49m\n\u001b[1;32m    174\u001b[0m \u001b[43m        \u001b[49m\u001b[43mcoordinate_system_orientation\u001b[49m\u001b[38;5;241;43m=\u001b[39;49m\u001b[38;5;28;43;01mNone\u001b[39;49;00m\u001b[43m,\u001b[49m\n\u001b[1;32m    175\u001b[0m \u001b[43m    \u001b[49m\u001b[43m)\u001b[49m\n",
      "File \u001b[0;32m~/Desktop/Work/RocketPy/RocketPy/rocketpy/stochastic/stochastic_motor_model.py:19\u001b[0m, in \u001b[0;36mStochasticMotorModel.__init__\u001b[0;34m(self, obj, **kwargs)\u001b[0m\n\u001b[1;32m     17\u001b[0m \u001b[38;5;66;03m# TODO: never vary the grain_number\u001b[39;00m\n\u001b[1;32m     18\u001b[0m \u001b[38;5;28mself\u001b[39m\u001b[38;5;241m.\u001b[39m_validate_positive_int_list(\u001b[38;5;124m\"\u001b[39m\u001b[38;5;124mgrain_number\u001b[39m\u001b[38;5;124m\"\u001b[39m, kwargs\u001b[38;5;241m.\u001b[39mget(\u001b[38;5;124m\"\u001b[39m\u001b[38;5;124mgrain_number\u001b[39m\u001b[38;5;124m\"\u001b[39m))\n\u001b[0;32m---> 19\u001b[0m \u001b[38;5;28;43msuper\u001b[39;49m\u001b[43m(\u001b[49m\u001b[43m)\u001b[49m\u001b[38;5;241;43m.\u001b[39;49m\u001b[38;5;21;43m__init__\u001b[39;49m\u001b[43m(\u001b[49m\u001b[43mobj\u001b[49m\u001b[43m,\u001b[49m\u001b[43m \u001b[49m\u001b[38;5;241;43m*\u001b[39;49m\u001b[38;5;241;43m*\u001b[39;49m\u001b[43mkwargs\u001b[49m\u001b[43m)\u001b[49m\n",
      "File \u001b[0;32m~/Desktop/Work/RocketPy/RocketPy/rocketpy/stochastic/stochastic_model.py:71\u001b[0m, in \u001b[0;36mStochasticModel.__init__\u001b[0;34m(self, obj, seed, **kwargs)\u001b[0m\n\u001b[1;32m     69\u001b[0m \u001b[38;5;28mself\u001b[39m\u001b[38;5;241m.\u001b[39mlast_rnd_dict \u001b[38;5;241m=\u001b[39m {}\n\u001b[1;32m     70\u001b[0m \u001b[38;5;28mself\u001b[39m\u001b[38;5;241m.\u001b[39m__stochastic_dict \u001b[38;5;241m=\u001b[39m kwargs\n\u001b[0;32m---> 71\u001b[0m \u001b[38;5;28;43mself\u001b[39;49m\u001b[38;5;241;43m.\u001b[39;49m\u001b[43m_set_stochastic\u001b[49m\u001b[43m(\u001b[49m\u001b[43mseed\u001b[49m\u001b[43m)\u001b[49m\n",
      "File \u001b[0;32m~/Desktop/Work/RocketPy/RocketPy/rocketpy/stochastic/stochastic_model.py:105\u001b[0m, in \u001b[0;36mStochasticModel._set_stochastic\u001b[0;34m(self, seed)\u001b[0m\n\u001b[1;32m    101\u001b[0m             attr_value \u001b[38;5;241m=\u001b[39m \u001b[38;5;28mself\u001b[39m\u001b[38;5;241m.\u001b[39m_validate_custom_sampler(\n\u001b[1;32m    102\u001b[0m                 input_value, seed\n\u001b[1;32m    103\u001b[0m             )\n\u001b[1;32m    104\u001b[0m         \u001b[38;5;28;01melse\u001b[39;00m:\n\u001b[0;32m--> 105\u001b[0m             \u001b[38;5;28;01mraise\u001b[39;00m \u001b[38;5;167;01mAssertionError\u001b[39;00m(\n\u001b[1;32m    106\u001b[0m                 \u001b[38;5;124mf\u001b[39m\u001b[38;5;124m\"\u001b[39m\u001b[38;5;124m'\u001b[39m\u001b[38;5;132;01m{\u001b[39;00minput_name\u001b[38;5;132;01m}\u001b[39;00m\u001b[38;5;124m'\u001b[39m\u001b[38;5;124m must be a tuple, list, int, or float\u001b[39m\u001b[38;5;124m\"\u001b[39m\n\u001b[1;32m    107\u001b[0m             )\n\u001b[1;32m    108\u001b[0m \u001b[38;5;28;01melse\u001b[39;00m:\n\u001b[1;32m    109\u001b[0m     attr_value \u001b[38;5;241m=\u001b[39m [\u001b[38;5;28mgetattr\u001b[39m(\u001b[38;5;28mself\u001b[39m\u001b[38;5;241m.\u001b[39mobj, input_name)]\n",
      "\u001b[0;31mAssertionError\u001b[0m: 'total_impulse' must be a tuple, list, int, or float"
     ]
    }
   ],
   "source": [
    "stochastic_motor = StochasticSolidMotor(\n",
    "    solid_motor=motor,\n",
    "    burn_start_time=(0, 0.1, \"binomial\"),\n",
    "    grains_center_of_mass_position=0.001,\n",
    "    grain_density=50,\n",
    "    grain_separation=1 / 1000,\n",
    "    grain_initial_height=1 / 1000,\n",
    "    grain_initial_inner_radius=0.375 / 1000,\n",
    "    grain_outer_radius=0.375 / 1000,\n",
    "    total_impulse=total_impulse_sampler,\n",
    "    throat_radius=0.5 / 1000,\n",
    "    nozzle_radius=0.5 / 1000,\n",
    "    nozzle_position=0.001,\n",
    ")\n",
    "stochastic_motor.visualize_attributes()"
   ]
  },
  {
   "cell_type": "code",
   "execution_count": 7,
   "metadata": {},
   "outputs": [],
   "source": [
    "total_impulse_samples = [\n",
    "    stochastic_motor.create_object().total_impulse for _ in range(300)\n",
    "]"
   ]
  },
  {
   "cell_type": "code",
   "execution_count": 8,
   "metadata": {},
   "outputs": [
    {
     "data": {
      "text/plain": [
       "(array([3.08336103e-05, 3.08336103e-05, 3.39169713e-04, 6.16672205e-04,\n",
       "        7.70840257e-04, 9.55841918e-04, 6.16672205e-04, 4.93337764e-04,\n",
       "        5.24171375e-04, 1.54168051e-04, 1.85001662e-04, 1.54168051e-04,\n",
       "        4.31670544e-04, 7.70840257e-04, 1.04834275e-03, 9.55841918e-04,\n",
       "        5.85838595e-04, 2.77502492e-04, 1.85001662e-04, 1.23334441e-04]),\n",
       " array([5385.36421608, 5493.47135319, 5601.5784903 , 5709.68562741,\n",
       "        5817.79276452, 5925.89990164, 6034.00703875, 6142.11417586,\n",
       "        6250.22131297, 6358.32845008, 6466.43558719, 6574.54272431,\n",
       "        6682.64986142, 6790.75699853, 6898.86413564, 7006.97127275,\n",
       "        7115.07840987, 7223.18554698, 7331.29268409, 7439.3998212 ,\n",
       "        7547.50695831]),\n",
       " <BarContainer object of 20 artists>)"
      ]
     },
     "execution_count": 8,
     "metadata": {},
     "output_type": "execute_result"
    },
    {
     "data": {
      "image/png": "[encoded data removed]",
      "text/plain": [
       "<Figure size 640x480 with 1 Axes>"
      ]
     },
     "metadata": {},
     "output_type": "display_data"
    }
   ],
   "source": [
    "plt.hist(total_impulse_samples, density = True, bins = 20)"
   ]
  },
  {
   "cell_type": "code",
   "execution_count": null,
   "metadata": {},
   "outputs": [],
   "source": []
  }
 ],
 "metadata": {
  "kernelspec": {
   "display_name": "dev-py3-12",
   "language": "python",
   "name": "python3"
  },
  "language_info": {
   "codemirror_mode": {
    "name": "ipython",
    "version": 3
   },
   "file_extension": ".py",
   "mimetype": "text/x-python",
   "name": "python",
   "nbconvert_exporter": "python",
   "pygments_lexer": "ipython3",
   "version": "3.12.2"
  }
 },
 "nbformat": 4,
 "nbformat_minor": 2
}
