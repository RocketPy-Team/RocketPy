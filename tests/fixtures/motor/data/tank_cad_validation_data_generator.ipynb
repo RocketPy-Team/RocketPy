{
 "cells": [
  {
   "cell_type": "markdown",
   "metadata": {},
   "source": [
    "# CadQuery Validation of Tank Geometry Parameters"
   ]
  },
  {
   "cell_type": "markdown",
   "metadata": {},
   "source": [
    "This notebook is an example of using CadQuery to compute properties, such as volume, center of mass and inertia of geometric shapes. Therefore, its main purpose is to validate the `rocketpy.TankGeometry` calculations for different fluid heights."
   ]
  },
  {
   "cell_type": "code",
   "execution_count": 1,
   "metadata": {},
   "outputs": [],
   "source": [
    "%load_ext autoreload\n",
    "%autoreload 2"
   ]
  },
  {
   "cell_type": "code",
   "execution_count": 2,
   "metadata": {},
   "outputs": [],
   "source": [
    "import cadquery as cq\n",
    "import numpy as np\n",
    "import csv\n",
    "from rocketpy import CylindricalTank, SphericalTank"
   ]
  },
  {
   "cell_type": "code",
   "execution_count": 3,
   "metadata": {},
   "outputs": [
    {
     "name": "stdout",
     "output_type": "stream",
     "text": [
      "Warning: Adding spherical caps to the tank will not modify the total height of the tank 0.8068 m. Its cylindrical portion height will be reduced to 0.6579999999999999 m.\n",
      "Warning: Adding spherical caps to the tank will not modify the total height of the tank 0.981 m. Its cylindrical portion height will be reduced to 0.846 m.\n"
     ]
    }
   ],
   "source": [
    "# Create fixtures geometries\n",
    "geometry_map = {}\n",
    "geometry_map[\"sphere\"] = {\"spherical_oxidizer_tank\": SphericalTank(0.05)}\n",
    "geometry_map[\"cylinder\"] = {\n",
    "    \"cylindrical_oxidizer_tank\": CylindricalTank(0.0744, 0.8068, True),\n",
    "    \"cylindrical_pressurant_tank\": CylindricalTank(0.135 / 2, 0.981, True),\n",
    "}"
   ]
  },
  {
   "cell_type": "code",
   "execution_count": null,
   "metadata": {},
   "outputs": [],
   "source": [
    "def export_expected_parameters(name, datapoints):\n",
    "    with open(f'{name}_expected.csv', mode='w') as output_file:\n",
    "        writer = csv.writer(output_file)\n",
    "        writer.writerow(['level_height', 'volume', 'center_of_mass', 'inertia'])\n",
    "        for data_row in datapoints:\n",
    "            writer.writerow([*data_row])"
   ]
  },
  {
   "cell_type": "markdown",
   "metadata": {},
   "source": [
    "## CadQuery of a Spherical Tank"
   ]
  },
  {
   "cell_type": "markdown",
   "metadata": {},
   "source": [
    "A spherical shape is easily defined in CadQuery by using the `sphere` function. Furthermore, different levels of fluid height can be defined by using the `cut` function, i.e., subtracting a cylinder from the desired height and above."
   ]
  },
  {
   "cell_type": "code",
   "execution_count": 5,
   "metadata": {},
   "outputs": [],
   "source": [
    "def evaluate_sphere_parameters(radius, level_height):\n",
    "    \"\"\"Computes the volume, center of mass and inertia\n",
    "    (with respect to the origin) of a sphere 'filled' up\n",
    "    to a certain level height.\n",
    "\n",
    "    Parameters\n",
    "    ----------\n",
    "    radius : float\n",
    "        The radius of the sphere.\n",
    "    level_height : float\n",
    "        The height of the liquid inside the sphere.\n",
    "\n",
    "    Returns\n",
    "    -------\n",
    "    volume : float\n",
    "        The volume of the sphere.\n",
    "    center_of_mass : float\n",
    "        The center of mass of the sphere.\n",
    "    inertia : float\n",
    "        The inertia of the sphere with respect to the origin.\n",
    "    \"\"\"\n",
    "    sphere = cq.Workplane(\"XY\").sphere(radius)\n",
    "\n",
    "    # Cut the sphere to the level height\n",
    "    drill_height = 10 * radius\n",
    "    sphere = sphere.cut(\n",
    "        cq.Workplane(\"XY\")\n",
    "        .cylinder(drill_height, radius)\n",
    "        .translate((0, 0, drill_height / 2 + level_height))\n",
    "    )\n",
    "\n",
    "    # Uncomment to display the CAD\n",
    "    # display(sphere)\n",
    "\n",
    "    primitive = sphere.val()\n",
    "\n",
    "    volume = primitive.Volume()\n",
    "    center_of_mass = primitive.centerOfMass(primitive)\n",
    "    inertia_tensor = primitive.matrixOfInertia(primitive)\n",
    "\n",
    "    return volume, center_of_mass.z, inertia_tensor[0][0] + volume * center_of_mass.z**2"
   ]
  },
  {
   "cell_type": "code",
   "execution_count": 6,
   "metadata": {},
   "outputs": [],
   "source": [
    "for name, sphere_geometry in geometry_map[\"sphere\"].items():\n",
    "    radius = sphere_geometry.total_height / 2\n",
    "    datapoints = []\n",
    "    for h in np.linspace(-radius, radius, 25):\n",
    "        datapoints.append([h, *evaluate_sphere_parameters(radius, h)])\n",
    "\n",
    "    export_expected_parameters(name, datapoints)"
   ]
  },
  {
   "cell_type": "markdown",
   "metadata": {},
   "source": [
    "## CadQuery of a Cylindrical Tank with Caps"
   ]
  },
  {
   "cell_type": "markdown",
   "metadata": {},
   "source": [
    "A cylindrical shape with caps is defined by using the `cylinder` function for the main body, the `sphere` function for the caps and uniting the three shapes into one. Similarly to the sphere case, the fluid height is defined by using the `cut` function, i.e., subtracting a cylinder from the desired height and above."
   ]
  },
  {
   "cell_type": "code",
   "execution_count": null,
   "metadata": {},
   "outputs": [],
   "source": [
    "def evaluate_cylinder_with_caps(total_length, radius, level_height):\n",
    "    \"\"\"Computes the volume, center of mass and inertia (with respect\n",
    "    to the origin) of a cylinder with spherical caps 'filled' up to a\n",
    "    certain level height.\n",
    "\n",
    "    Parameters\n",
    "    ----------\n",
    "    total_length : float\n",
    "        The total length of the cylinder (with caps).\n",
    "    radius : float\n",
    "        The radius of the cylinder.\n",
    "\n",
    "    Returns\n",
    "    -------\n",
    "    volume : float\n",
    "        The volume of the cylinder with caps.\n",
    "    center_of_mass : float\n",
    "        The z-coordinate of the center of mass.\n",
    "    inertia : float\n",
    "        The inertia of the cylinder with caps with respect to the origin.\n",
    "    \"\"\"\n",
    "    cylinder_height = total_length - 2 * radius\n",
    "\n",
    "    cylinder = cq.Workplane(\"XY\").cylinder(cylinder_height, radius)\n",
    "    top_cap = (\n",
    "        cq.Workplane(\"XY\").sphere(radius).translate((0, 0, total_length / 2 - radius))\n",
    "    )\n",
    "    bottom_cap = (\n",
    "        cq.Workplane(\"XY\").sphere(radius).translate((0, 0, -total_length / 2 + radius))\n",
    "    )\n",
    "\n",
    "    solid = cylinder.union(top_cap).union(bottom_cap)\n",
    "\n",
    "    # Remove solid above the level_height\n",
    "    drill_height = 10 * total_length\n",
    "    solid = solid.cut(\n",
    "        cq.Workplane(\"XY\")\n",
    "        .cylinder(drill_height, radius)\n",
    "        .translate((0, 0, drill_height / 2 + level_height))\n",
    "    )\n",
    "    # Uncomment to display the CAD\n",
    "    # display(solid)\n",
    "\n",
    "    primitive = solid.val()\n",
    "\n",
    "    volume = primitive.Volume()\n",
    "    center_of_mass = primitive.centerOfMass(primitive)\n",
    "    inertia_tensor = primitive.matrixOfInertia(primitive)\n",
    "\n",
    "    return volume, center_of_mass.z, inertia_tensor[0][0] + volume * center_of_mass.z**2"
   ]
  },
  {
   "cell_type": "code",
   "execution_count": 8,
   "metadata": {},
   "outputs": [],
   "source": [
    "for name, cylinder_geometry in geometry_map[\"cylinder\"].items():\n",
    "    radius = cylinder_geometry.radius(0)\n",
    "    length = cylinder_geometry.total_height\n",
    "    datapoints = []\n",
    "    for h in np.linspace(-length / 2, length / 2, 25):\n",
    "        datapoints.append([h, *evaluate_cylinder_with_caps(length, radius, h)])\n",
    "\n",
    "    export_expected_parameters(name, datapoints)"
   ]
  }
 ],
 "metadata": {
  "kernelspec": {
   "display_name": "venv312",
   "language": "python",
   "name": "python3"
  },
  "language_info": {
   "codemirror_mode": {
    "name": "ipython",
    "version": 3
   },
   "file_extension": ".py",
   "mimetype": "text/x-python",
   "name": "python",
   "nbconvert_exporter": "python",
   "pygments_lexer": "ipython3",
   "version": "3.12.3"
  }
 },
 "nbformat": 4,
 "nbformat_minor": 2
}
