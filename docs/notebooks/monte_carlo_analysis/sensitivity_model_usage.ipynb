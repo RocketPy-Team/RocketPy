{
 "cells": [
  {
   "cell_type": "markdown",
   "metadata": {},
   "source": [
    "## Introducing Sensitivity Analysis\n",
    "\n",
    "This notebook teaches to use the results from the Monte Carlo to perform sensitivity\n",
    "analysis. We first introduce the concepts of sensitivity analysis and then show how to\n",
    "use the `SensitivityModel` class. It is highly recommended that you have some\n",
    "basic understanding of how to use RocketPy and specially what are Monte Carlo simulations.\n",
    "\n",
    "To get the setup out of the way, let us first install and load the required modules."
   ]
  },
  {
   "cell_type": "code",
   "execution_count": 4,
   "metadata": {},
   "outputs": [
    {
     "name": "stdout",
     "output_type": "stream",
     "text": [
      "Requirement already satisfied: rocketpy in /home/lprates/Desktop/Work/RocketPy/RocketPy/testnotebook/lib/python3.12/site-packages (1.4.1)\n",
      "Requirement already satisfied: prettytable in /home/lprates/Desktop/Work/RocketPy/RocketPy/testnotebook/lib/python3.12/site-packages (3.10.0)\n",
      "Requirement already satisfied: statsmodels in /home/lprates/Desktop/Work/RocketPy/RocketPy/testnotebook/lib/python3.12/site-packages (0.14.2)\n",
      "Requirement already satisfied: numpy>=1.13 in /home/lprates/Desktop/Work/RocketPy/RocketPy/testnotebook/lib/python3.12/site-packages (from rocketpy) (1.26.4)\n",
      "Requirement already satisfied: scipy>=1.0 in /home/lprates/Desktop/Work/RocketPy/RocketPy/testnotebook/lib/python3.12/site-packages (from rocketpy) (1.12.0)\n",
      "Requirement already satisfied: matplotlib>=3.0 in /home/lprates/Desktop/Work/RocketPy/RocketPy/testnotebook/lib/python3.12/site-packages (from rocketpy) (3.8.3)\n",
      "Requirement already satisfied: netCDF4>=1.6.4 in /home/lprates/Desktop/Work/RocketPy/RocketPy/testnotebook/lib/python3.12/site-packages (from rocketpy) (1.6.5)\n",
      "Requirement already satisfied: requests in /home/lprates/Desktop/Work/RocketPy/RocketPy/testnotebook/lib/python3.12/site-packages (from rocketpy) (2.31.0)\n",
      "Requirement already satisfied: pytz in /home/lprates/Desktop/Work/RocketPy/RocketPy/testnotebook/lib/python3.12/site-packages (from rocketpy) (2024.1)\n",
      "Requirement already satisfied: simplekml in /home/lprates/Desktop/Work/RocketPy/RocketPy/testnotebook/lib/python3.12/site-packages (from rocketpy) (1.3.6)\n",
      "Requirement already satisfied: wcwidth in /home/lprates/Desktop/Work/RocketPy/RocketPy/testnotebook/lib/python3.12/site-packages (from prettytable) (0.2.13)\n",
      "Requirement already satisfied: pandas!=2.1.0,>=1.4 in /home/lprates/Desktop/Work/RocketPy/RocketPy/testnotebook/lib/python3.12/site-packages (from statsmodels) (2.2.1)\n",
      "Requirement already satisfied: patsy>=0.5.6 in /home/lprates/Desktop/Work/RocketPy/RocketPy/testnotebook/lib/python3.12/site-packages (from statsmodels) (0.5.6)\n",
      "Requirement already satisfied: packaging>=21.3 in /home/lprates/Desktop/Work/RocketPy/RocketPy/testnotebook/lib/python3.12/site-packages (from statsmodels) (24.0)\n",
      "Requirement already satisfied: contourpy>=1.0.1 in /home/lprates/Desktop/Work/RocketPy/RocketPy/testnotebook/lib/python3.12/site-packages (from matplotlib>=3.0->rocketpy) (1.2.0)\n",
      "Requirement already satisfied: cycler>=0.10 in /home/lprates/Desktop/Work/RocketPy/RocketPy/testnotebook/lib/python3.12/site-packages (from matplotlib>=3.0->rocketpy) (0.12.1)\n",
      "Requirement already satisfied: fonttools>=4.22.0 in /home/lprates/Desktop/Work/RocketPy/RocketPy/testnotebook/lib/python3.12/site-packages (from matplotlib>=3.0->rocketpy) (4.49.0)\n",
      "Requirement already satisfied: kiwisolver>=1.3.1 in /home/lprates/Desktop/Work/RocketPy/RocketPy/testnotebook/lib/python3.12/site-packages (from matplotlib>=3.0->rocketpy) (1.4.5)\n",
      "Requirement already satisfied: pillow>=8 in /home/lprates/Desktop/Work/RocketPy/RocketPy/testnotebook/lib/python3.12/site-packages (from matplotlib>=3.0->rocketpy) (10.2.0)\n",
      "Requirement already satisfied: pyparsing>=2.3.1 in /home/lprates/Desktop/Work/RocketPy/RocketPy/testnotebook/lib/python3.12/site-packages (from matplotlib>=3.0->rocketpy) (3.1.2)\n",
      "Requirement already satisfied: python-dateutil>=2.7 in /home/lprates/Desktop/Work/RocketPy/RocketPy/testnotebook/lib/python3.12/site-packages (from matplotlib>=3.0->rocketpy) (2.9.0.post0)\n",
      "Requirement already satisfied: cftime in /home/lprates/Desktop/Work/RocketPy/RocketPy/testnotebook/lib/python3.12/site-packages (from netCDF4>=1.6.4->rocketpy) (1.6.3)\n",
      "Requirement already satisfied: certifi in /home/lprates/Desktop/Work/RocketPy/RocketPy/testnotebook/lib/python3.12/site-packages (from netCDF4>=1.6.4->rocketpy) (2024.2.2)\n",
      "Requirement already satisfied: tzdata>=2022.7 in /home/lprates/Desktop/Work/RocketPy/RocketPy/testnotebook/lib/python3.12/site-packages (from pandas!=2.1.0,>=1.4->statsmodels) (2024.1)\n",
      "Requirement already satisfied: six in /home/lprates/Desktop/Work/RocketPy/RocketPy/testnotebook/lib/python3.12/site-packages (from patsy>=0.5.6->statsmodels) (1.16.0)\n",
      "Requirement already satisfied: charset-normalizer<4,>=2 in /home/lprates/Desktop/Work/RocketPy/RocketPy/testnotebook/lib/python3.12/site-packages (from requests->rocketpy) (3.3.2)\n",
      "Requirement already satisfied: idna<4,>=2.5 in /home/lprates/Desktop/Work/RocketPy/RocketPy/testnotebook/lib/python3.12/site-packages (from requests->rocketpy) (3.6)\n",
      "Requirement already satisfied: urllib3<3,>=1.21.1 in /home/lprates/Desktop/Work/RocketPy/RocketPy/testnotebook/lib/python3.12/site-packages (from requests->rocketpy) (2.2.1)\n"
     ]
    }
   ],
   "source": [
    "!python3 -m pip install rocketpy prettytable statsmodels"
   ]
  },
  {
   "cell_type": "code",
   "execution_count": 5,
   "metadata": {},
   "outputs": [],
   "source": [
    "from rocketpy import SensitivityModel\n",
    "from rocketpy import load_monte_carlo_data"
   ]
  },
  {
   "cell_type": "markdown",
   "metadata": {},
   "source": [
    "### What is sensitivity analysis\n",
    "\n",
    "The goal of any simulation software is to provide accurate estimates of certain\n",
    "quantities. For RocketPy, the goal is to accurately estimate rockets flight\n",
    "trajectories, where accuracy stands for how close are the predicted values and the\n",
    "factually observed values for the variables of interest.\n",
    "\n",
    "To understand what makes the predictions differ from observed values we have to understand\n",
    "what factors increase variability in the predictions. From all sources of variation,\n",
    "there are four of major importance:\n",
    "\n",
    "<center><img src=\"sources_of_variation.png\"/></center>\n",
    "\n",
    "- **Rocket Physics model**: consists of the physics models used in rocketry. It encompasses\n",
    "which rocketry elements we can incorporate such as different types of motors, aerodynamic\n",
    "surfaces, and other rockets components along with the mathematical equations used to describe them.\n",
    "- **Numerical approximations**: consists of how well we can solve the physics equations.\n",
    "Analytic solutions are seldomly available, and therefore we must resort on numerical\n",
    "approximations.\n",
    "- **Weather forecast**: consists of how well the environment is predicted. Accurate predictions \n",
    "are crucial for rocketry simulation as many components are influenced by it.\n",
    "- **Measurement uncertainty**: consists of measurement errors. Every instrument has a limited\n",
    "precision, which causes us to simulate flights with parameters values that are not the true\n",
    "values but should be somewhat close.\n",
    "\n",
    "Accurate predictions require dealing carefully with each source of variation, and this is\n",
    "RocketPy's goal. The first two sources of variation are naturally handled in the simulator\n",
    "itself as the library is enhanced with new rocketry components and computational methods.\n",
    "Weather forecasting is also described extensively in RocketPy, where we allow the forecast\n",
    "to be customized, come from different reference sources and even be an ensemble from forecasts.\n",
    "\n",
    "The goal of sensitivity analysis is to analyze the variation due to measurement uncertainty.\n",
    "Sensitivity analysis quantifies the magnitude of the effect that the variability in rocket parameters \n",
    "causes in variables of interest.\n",
    "\n",
    "To give a more clear example, assume that a rocketeer wishes to estimate the apogee as\n",
    "accurately as possible. He measures that the rocket has mass $M$ (kg) with precision \n",
    "$\\epsilon_1$ (kg). Then, he measures that the rocket has radius $R$ (m) with precision\n",
    "$\\epsilon_2$ (m). The uncertainty in these measures will cause variability in the apogees\n",
    "estimation. Which of these uncertainties is more relevant for the variability of the apogee?\n",
    "This is the kind of question we will try to answer."
   ]
  },
  {
   "cell_type": "markdown",
   "metadata": {},
   "source": [
    "### Importing the dataset from Monte Carlo simulations\n",
    "\n",
    "Performing a sensitivity analysis requires running a Monte Carlo simulation\n",
    "first. We need to:\n",
    "\n",
    "- specify distribution used for each stochastic parameter;\n",
    "- import and specify the parameter sampled for each flight simulation;\n",
    "- import and specify the target variables we are interested in the analysis.\n",
    "\n",
    "\n",
    "The dataset was created in the \"monte_carlo_sensitivity_simulation\" notebook. We considered\n",
    "a rocket very similar to Calisto, the one used in the getting started notebook. We used\n",
    "a tomorrows forecast for the environment and did not take weather uncertainty into\n",
    "consideration when performing the analysis. For more details on how the dataset was\n",
    "obtained, see the referred notebook."
   ]
  },
  {
   "cell_type": "markdown",
   "metadata": {},
   "source": [
    "Here we will analyze how some `Rocket`, `Motor`, `Parachute` and `Flight` parameters\n",
    "affect the apogee. Every stochastic parameter is listed in the dictionary below. We\n",
    "sampled them considering a Gaussian distribution with `mean` and `std` as specified below."
   ]
  },
  {
   "cell_type": "code",
   "execution_count": 13,
   "metadata": {},
   "outputs": [],
   "source": [
    "analysis_parameters = {\n",
    "    # Rocket \n",
    "    \"mass\": {\"mean\": 14.426, \"std\": 0.5},\n",
    "    \"radius\": {\"mean\": 127 / 2000, \"std\": 1 / 1000},\n",
    "    # Motor\n",
    "    \"motors_dry_mass\": {\"mean\": 1.815, \"std\": 1 / 100},\n",
    "    \"motors_grain_density\": {\"mean\": 1815, \"std\": 50},\n",
    "    \"motors_total_impulse\": {\"mean\": 6500, \"std\": 50},\n",
    "    \"motors_burn_out_time\": {\"mean\": 3.9, \"std\": 0.2},\n",
    "    \"motors_nozzle_radius\": {\"mean\": 33 / 1000, \"std\": 0.5 / 1000},\n",
    "    \"motors_grain_separation\": {\"mean\": 5 / 1000, \"std\": 1 / 1000},\n",
    "    \"motors_grain_initial_height\": {\"mean\": 120 / 1000, \"std\": 1 / 100},\n",
    "    \"motors_grain_initial_inner_radius\": {\"mean\": 15 / 1000, \"std\": 0.375 / 1000},\n",
    "    \"motors_grain_outer_radius\": {\"mean\": 33 / 1000, \"std\": 0.375 / 1000},\n",
    "    # Parachutes\n",
    "    \"parachutes_cd_s\": {\"mean\": 10, \"std\": 0.1},\n",
    "    \"parachutes_lag\": {\"mean\": 1.5, \"std\": 0.1},\n",
    "    #\"parachutes_main_cd_s\": {\"mean\": 10, \"std\": 0.1},\n",
    "    #\"parachutes_main_lag\": {\"mean\": 1.5, \"std\": 0.1},\n",
    "    #\"parachutes_drogue_cd_s\": {\"mean\": 1, \"std\": 0.07},\n",
    "    #\"parachutes_drogue_lag\": {\"mean\": 1.5, \"std\": 0.2},\n",
    "    # Flight\n",
    "    \"heading\": {\"mean\": 53, \"std\": 2},\n",
    "    \"inclination\": {\"mean\": 84.7, \"std\": 1},\n",
    "}"
   ]
  },
  {
   "cell_type": "markdown",
   "metadata": {},
   "source": [
    "Next, we load the monte carlo data using the `load_monte_carlo_data` function."
   ]
  },
  {
   "cell_type": "code",
   "execution_count": 14,
   "metadata": {},
   "outputs": [],
   "source": [
    "target_variables = [\"apogee\"]\n",
    "parameters = list(analysis_parameters.keys())\n",
    "parameters_matrix, target_variables_matrix = load_monte_carlo_data(\n",
    "    input_filename=\"monte_carlo_analysis_outputs/sensitivity_analysis_data.inputs.txt\",\n",
    "    output_filename=\"monte_carlo_analysis_outputs/sensitivity_analysis_data.outputs.txt\",\n",
    "    parameters_list=analysis_parameters.keys(),\n",
    "    target_variables_list=target_variables,\n",
    ")"
   ]
  },
  {
   "cell_type": "markdown",
   "metadata": {},
   "source": [
    "### Creating and fitting SensitivityModel\n",
    "\n",
    "We pass the parameters list and target variables list to the SensitivityModel\n",
    "object in order to create it."
   ]
  },
  {
   "cell_type": "code",
   "execution_count": 8,
   "metadata": {},
   "outputs": [],
   "source": [
    "model = SensitivityModel(parameters, target_variables)"
   ]
  },
  {
   "cell_type": "markdown",
   "metadata": {},
   "source": [
    "If we know the nominal values for the parameters and target variables in the\n",
    "simulation, we can pass them using the methods `set_parameters_nominal` and\n",
    "`set_target_variables_nominal`. If we do not pass it to the model, the fit method\n",
    "estimates them from data. In this example, we will pass the nominal values only for the\n",
    "parameters and let the method estimate the nominals for the target variables."
   ]
  },
  {
   "cell_type": "code",
   "execution_count": 15,
   "metadata": {},
   "outputs": [],
   "source": [
    "parameters_nominal_mean = [analysis_parameters[parameter_name][\"mean\"] for parameter_name in analysis_parameters.keys()]\n",
    "parameters_nominal_sd = [analysis_parameters[parameter_name][\"std\"] for parameter_name in analysis_parameters.keys()]\n",
    "model.set_parameters_nominal(parameters_nominal_mean, parameters_nominal_sd)"
   ]
  },
  {
   "cell_type": "markdown",
   "metadata": {},
   "source": [
    "Finally, we fit the model by passing the parameters and target\n",
    "variables matrices loaded previously."
   ]
  },
  {
   "cell_type": "code",
   "execution_count": 16,
   "metadata": {},
   "outputs": [],
   "source": [
    "model.fit(parameters_matrix, target_variables_matrix)"
   ]
  },
  {
   "cell_type": "markdown",
   "metadata": {},
   "source": [
    "### Results\n",
    "\n",
    "The results are summarized by the `plot` and `summary` methods."
   ]
  },
  {
   "cell_type": "code",
   "execution_count": 21,
   "metadata": {},
   "outputs": [
    {
     "data": {
      "image/png": "[encoded data removed]",
      "text/plain": [
       "<Figure size 640x480 with 1 Axes>"
      ]
     },
     "metadata": {},
     "output_type": "display_data"
    }
   ],
   "source": [
    "model.plot()"
   ]
  },
  {
   "cell_type": "code",
   "execution_count": 22,
   "metadata": {},
   "outputs": [
    {
     "name": "stdout",
     "output_type": "stream",
     "text": [
      "+--------------------------------------------------------------------------------------------------------------------+\n",
      "|                                                   Summary apogee                                                   |\n",
      "+-----------------------------------+-----------------+--------------+------------+------------------------+---------+\n",
      "|             Parameter             | Sensitivity (%) | Nominal mean | Nominal sd | Regression Coefficient | p-value |\n",
      "+-----------------------------------+-----------------+--------------+------------+------------------------+---------+\n",
      "|                mass               |     64.3755     |    14.426    |    0.5     |       -179.8674        |  0.8928 |\n",
      "|               radius              |     13.4991     |    0.0635    |   0.001    |      -41182.6938       |   0.0   |\n",
      "|        motors_total_impulse       |     11.7046     |     6500     |     50     |         0.767          |   0.0   |\n",
      "|    motors_grain_initial_height    |      6.3585     |     0.12     |    0.01    |       -2826.4437       |  0.6076 |\n",
      "|     Linear Approx. Error (LAE)    |      1.9614     |              |            |                        |         |\n",
      "|     motors_grain_outer_radius     |      1.1159     |    0.033     |   0.0004   |      -31574.8999       |  0.579  |\n",
      "|        motors_grain_density       |      0.4987     |     1815     |     50     |        -0.1583         |  0.602  |\n",
      "|        motors_burn_out_time       |      0.2176     |     3.9      |    0.2     |        -26.1424        |   0.0   |\n",
      "|          parachutes_cd_s          |      0.159      |      10      |    0.1     |        -44.6925        |   0.0   |\n",
      "|           parachutes_lag          |      0.0493     |     1.5      |    0.1     |        -24.8953        |  0.0203 |\n",
      "|            inclination            |      0.028      |     84.7     |     1      |         -1.876         |  0.5137 |\n",
      "|              heading              |      0.008      |      53      |     2      |        -0.5003         |  0.1232 |\n",
      "|      motors_grain_separation      |      0.0073     |    0.005     |   0.001    |       -959.0656        |  0.7163 |\n",
      "|          motors_dry_mass          |      0.0071     |    1.815     |    0.01    |        -94.6759        |   0.0   |\n",
      "| motors_grain_initial_inner_radius |      0.0063     |    0.015     |   0.0004   |       2366.6443        |   0.0   |\n",
      "|        motors_nozzle_radius       |      0.0036     |    0.033     |   0.0005   |       1348.9818        |  0.0013 |\n",
      "+-----------------------------------+-----------------+--------------+------------+------------------------+---------+\n",
      "+--------------------------------------------------------------------------------------------------------------------+\n",
      "|                                                                                                                    |\n",
      "+--------------------------------------------------------------------------------------------------------------------+\n",
      "|                                             Estimated value: 5181.8218                                             |\n",
      "|                                                   Std: 112.0888                                                    |\n",
      "|                                 95.0% Prediction Interval: [4962.1319, 5401.5117]                                  |\n",
      "+--------------------------------------------------------------------------------------------------------------------+\n"
     ]
    }
   ],
   "source": [
    "model.summary()"
   ]
  },
  {
   "cell_type": "markdown",
   "metadata": {},
   "source": [
    "The "
   ]
  },
  {
   "cell_type": "markdown",
   "metadata": {},
   "source": [
    "### Final considerations\n",
    "\n",
    "Sensitivity analysis is a useful tool to investigate the statistical relevance of parameters \n",
    "in the variables of interest. As any statistics tool, we must be careful so that sensitivity\n",
    "analysis provides valid results. We should\n",
    "\n",
    "- check that all variables relevant to understand the variability of a certain target variable\n",
    "are passed.\n",
    "- check that the linear approximation error (LAE) is not too large. This could happen because\n",
    "important variables were omitted, or because the weather forecast uncertainty is much more important\n",
    "than the specified measurements uncertainty. If both of these were considered and the LAE is\n",
    "still large, then the linear approximation might be strongly violated and the results."
   ]
  },
  {
   "cell_type": "markdown",
   "metadata": {},
   "source": []
  }
 ],
 "metadata": {
  "kernelspec": {
   "display_name": "testnotebook",
   "language": "python",
   "name": "python3"
  },
  "language_info": {
   "codemirror_mode": {
    "name": "ipython",
    "version": 3
   },
   "file_extension": ".py",
   "mimetype": "text/x-python",
   "name": "python",
   "nbconvert_exporter": "python",
   "pygments_lexer": "ipython3",
   "version": "3.12.2"
  }
 },
 "nbformat": 4,
 "nbformat_minor": 2
}
