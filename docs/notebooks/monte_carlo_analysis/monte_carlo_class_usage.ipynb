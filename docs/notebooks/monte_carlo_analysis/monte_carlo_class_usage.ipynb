{
 "cells": [
  {
   "attachments": {},
   "cell_type": "markdown",
   "metadata": {},
   "source": [
    "# Monte Carlo class usage"
   ]
  },
  {
   "attachments": {},
   "cell_type": "markdown",
   "metadata": {},
   "source": [
    "![Landing point dispersion ellipses](https://raw.githubusercontent.com/RocketPy-Team/RocketPy/master/docs/notebooks/monte_carlo_analysis/monte_carlo_analysis_outputs/valetudo_rocket_v0.svg)\n",
    "\n",
    "This is an advanced use of RocketPy. This notebook runs a Monte Carlo analysis and predicts probability distributions of the rocket's landing point, apogee and other relevant information. \n",
    "\n",
    "The `MonteCarlo` class simplifies the process of performing Monte Carlo simulations. The idea is to take the already defined classes for a standard flight simulation, and create the so called ``Stochastic`` classes, which are used to run the Monte Carlo analysis.\n",
    "\n",
    "This class offers extensive capabilities, and this example notebook covers as many as possible.\n",
    "For a deeper understanding, we recommend checking the class [documentation](https://docs.rocketpy.org/en/latest/).\n",
    "\n",
    "For a more comprehensive conceptual understanding of Monte Carlo Simulations, refer to RocketPy's main reference: [RocketPy: Six Degree-of-Freedom Rocket Trajectory Simulator](https://doi.org/10.1061/(ASCE)AS.1943-5525.0001331).\n",
    "\n"
   ]
  },
  {
   "cell_type": "code",
   "execution_count": null,
   "metadata": {},
   "outputs": [],
   "source": [
    "# We import these lines for debugging purposes, only works on Jupyter Notebook\n",
    "%load_ext autoreload\n",
    "%autoreload 2"
   ]
  },
  {
   "attachments": {},
   "cell_type": "markdown",
   "metadata": {},
   "source": [
    "First, let's import the necessary libraries"
   ]
  },
  {
   "cell_type": "code",
   "execution_count": null,
   "metadata": {},
   "outputs": [],
   "source": [
    "from rocketpy import Environment, SolidMotor, Rocket, Flight, MonteCarlo, Function\n",
    "from rocketpy.stochastic import (\n",
    "    StochasticEnvironment,\n",
    "    StochasticSolidMotor,\n",
    "    StochasticRocket,\n",
    "    StochasticFlight,\n",
    "    StochasticNoseCone,\n",
    "    StochasticTail,\n",
    "    StochasticTrapezoidalFins,\n",
    "    StochasticParachute,\n",
    "    StochasticRailButtons,\n",
    ")\n",
    "import datetime"
   ]
  },
  {
   "attachments": {},
   "cell_type": "markdown",
   "metadata": {},
   "source": [
    "If you are using Jupyter Notebooks, it is recommended to run the following line to make matplotlib plots which will be shown later interactive and higher quality.\n"
   ]
  },
  {
   "cell_type": "code",
   "execution_count": null,
   "metadata": {},
   "outputs": [],
   "source": [
    "%matplotlib widget"
   ]
  },
  {
   "attachments": {},
   "cell_type": "markdown",
   "metadata": {},
   "source": [
    "## Step 1: Standard Simulation\n"
   ]
  },
  {
   "cell_type": "markdown",
   "metadata": {},
   "source": [
    "We will first create a standard RocketPy simulation objects (e.g. Environment, SolidMotor, etc.) to then create the Stochastic objects.\n",
    "\n",
    "The standard objects created here are the same as in the [First Simulation Page](https://docs.rocketpy.org/en/latest/user/first_simulation.html) of our documentation, so you can go through that if you want to understand what is done in more detail.\n",
    "\n",
    "The only difference here is that we will use a `Environment` with atmospheric model type `Ensemble`. This allows us to run the Monte Carlo analysis with different ensemble members, which are different atmospheric profiles.\n",
    "\n",
    "We will do it all in one single cell for simplicity."
   ]
  },
  {
   "cell_type": "code",
   "execution_count": null,
   "metadata": {},
   "outputs": [],
   "source": [
    "# Environment\n",
    "env = Environment(latitude=39.389700, longitude=-8.288964, elevation=113)\n",
    "tomorrow = datetime.date.today() + datetime.timedelta(days=1)\n",
    "env.set_date((tomorrow.year, tomorrow.month, tomorrow.day, 12))\n",
    "env.set_atmospheric_model(type=\"Ensemble\", file=\"GEFS\")\n",
    "\n",
    "# Motor\n",
    "motor = SolidMotor(\n",
    "    thrust_source=\"../../../data/motors/Cesaroni_M1670.eng\",\n",
    "    dry_mass=1.815,\n",
    "    dry_inertia=(0.125, 0.125, 0.002),\n",
    "    nozzle_radius=33 / 1000,\n",
    "    grain_number=5,\n",
    "    grain_density=1815,\n",
    "    grain_outer_radius=33 / 1000,\n",
    "    grain_initial_inner_radius=15 / 1000,\n",
    "    grain_initial_height=120 / 1000,\n",
    "    grain_separation=5 / 1000,\n",
    "    grains_center_of_mass_position=0.397,\n",
    "    center_of_dry_mass_position=0.317,\n",
    "    nozzle_position=0,\n",
    "    burn_time=3.9,\n",
    "    throat_radius=11 / 1000,\n",
    "    coordinate_system_orientation=\"nozzle_to_combustion_chamber\",\n",
    ")\n",
    "print(f\"Total Impulse of the Solid Motor: {motor.total_impulse} Ns\")\n",
    "\n",
    "# Rocket\n",
    "rocket = Rocket(\n",
    "    radius=127 / 2000,\n",
    "    mass=14.426,\n",
    "    inertia=(6.321, 6.321, 0.034),\n",
    "    power_off_drag=\"../../../data/calisto/powerOffDragCurve.csv\",\n",
    "    power_on_drag=\"../../../data/calisto/powerOnDragCurve.csv\",\n",
    "    center_of_mass_without_motor=0,\n",
    "    coordinate_system_orientation=\"tail_to_nose\",\n",
    ")\n",
    "\n",
    "rail_buttons = rocket.set_rail_buttons(\n",
    "    upper_button_position=0.0818,\n",
    "    lower_button_position=-0.618,\n",
    "    angular_position=45,\n",
    ")\n",
    "\n",
    "rocket.add_motor(motor, position=-1.255)\n",
    "\n",
    "nose_cone = rocket.add_nose(length=0.55829, kind=\"vonKarman\", position=1.278)\n",
    "\n",
    "fin_set = rocket.add_trapezoidal_fins(\n",
    "    n=4,\n",
    "    root_chord=0.120,\n",
    "    tip_chord=0.060,\n",
    "    span=0.110,\n",
    "    position=-1.04956,\n",
    "    cant_angle=0.5,\n",
    "    airfoil=(\"../../../data/calisto/NACA0012-radians.csv\", \"radians\"),\n",
    ")\n",
    "\n",
    "tail = rocket.add_tail(\n",
    "    top_radius=0.0635, bottom_radius=0.0435, length=0.060, position=-1.194656\n",
    ")\n",
    "Main = rocket.add_parachute(\n",
    "    \"Main\",\n",
    "    cd_s=10.0,\n",
    "    trigger=800,\n",
    "    sampling_rate=105,\n",
    "    lag=1.5,\n",
    "    noise=(0, 8.3, 0.5),\n",
    ")\n",
    "\n",
    "Drogue = rocket.add_parachute(\n",
    "    \"Drogue\",\n",
    "    cd_s=1.0,\n",
    "    trigger=\"apogee\",\n",
    "    sampling_rate=105,\n",
    "    lag=1.5,\n",
    "    noise=(0, 8.3, 0.5),\n",
    ")\n",
    "\n",
    "# Flight\n",
    "test_flight = Flight(\n",
    "    rocket=rocket,\n",
    "    environment=env,\n",
    "    rail_length=5,\n",
    "    inclination=84,\n",
    "    heading=133,\n",
    ")"
   ]
  },
  {
   "cell_type": "markdown",
   "metadata": {},
   "source": [
    "Lets check the trajectory of the Flight."
   ]
  },
  {
   "cell_type": "code",
   "execution_count": null,
   "metadata": {},
   "outputs": [],
   "source": [
    "test_flight.plots.trajectory_3d()"
   ]
  },
  {
   "cell_type": "markdown",
   "metadata": {},
   "source": [
    "The flight trajectory above represents the nominal trajectory of the rocket, without any uncertainties.\n"
   ]
  },
  {
   "cell_type": "markdown",
   "metadata": {},
   "source": [
    "## Step 2: Stochastic Objects"
   ]
  },
  {
   "cell_type": "markdown",
   "metadata": {},
   "source": [
    "For each RocketPy object, we will create a ``Stochastic`` counterpart that extends the initial model, allowing us to define the uncertainties of each input parameter.\n",
    "\n",
    "Please refer to the [Working with Stochastic Objects](https://docs.rocketpy.org/en/latest/user/stochastic.html#working-with-stochastic-objects) page on RocketPy`s documentation for a more detailed explanation."
   ]
  },
  {
   "cell_type": "markdown",
   "metadata": {},
   "source": [
    "### Stochastic Environment"
   ]
  },
  {
   "cell_type": "markdown",
   "metadata": {},
   "source": [
    "\n",
    "Starting with the `Environment` object, we will create a `StochasticEnvironment` to specify its uncertainties.\n",
    "\n",
    "In this first example, we will specify the ensemble member and wind velocities factor.\n",
    "\n",
    "Since the ensemble member is a discrete value, **only list type inputs are permitted**. The list will contain the ensemble numbers to be randomly selected during the Monte Carlo simulation. This means that in each iteration, a different ensemble member will be chosen.\n",
    "\n",
    "<!-- The wind velocities factor are also special inputs. They are used to scale the wind velocities in each axis. The factor inputs can only be tuples or lists, since it has no nominal value to get from the standard. Lets scale the wind by a factor of 1.00000 ± 0.2 -->"
   ]
  },
  {
   "cell_type": "code",
   "execution_count": null,
   "metadata": {},
   "outputs": [],
   "source": [
    "stochastic_env = StochasticEnvironment(\n",
    "    environment=env,\n",
    "    ensemble_member=list(range(env.num_ensemble_members)),\n",
    ")\n",
    "\n",
    "stochastic_env.visualize_attributes()"
   ]
  },
  {
   "cell_type": "markdown",
   "metadata": {},
   "source": [
    "#### NOTE\n",
    "\n",
    "Always check the `.visualize_attributes()` method of each stochastic object to verify the uncertainties were correctly set.\n"
   ]
  },
  {
   "cell_type": "markdown",
   "metadata": {},
   "source": [
    "Just to illustrate the potential of this technique, let's randomly generate 5 instances of the environment using the `create_object` method.\n",
    "\n",
    "For each instance, we will calculate the wind speed at 1km altitude and store the results in a list."
   ]
  },
  {
   "cell_type": "code",
   "execution_count": null,
   "metadata": {},
   "outputs": [],
   "source": [
    "wind_speed_at_1000m = []\n",
    "for i in range(5):\n",
    "    rnd_env = stochastic_env.create_object()\n",
    "    wind_speed_at_1000m.append(rnd_env.wind_velocity_x(1000))\n",
    "\n",
    "print(wind_speed_at_1000m)"
   ]
  },
  {
   "cell_type": "markdown",
   "metadata": {},
   "source": [
    "As you can see, the wind speed varies between ensemble members.\n",
    "This demonstrates how the Monte Carlo simulation can capture the variability in wind conditions due to different ensemble members.\n"
   ]
  },
  {
   "attachments": {},
   "cell_type": "markdown",
   "metadata": {},
   "source": [
    "### Motor\n"
   ]
  },
  {
   "cell_type": "markdown",
   "metadata": {},
   "source": [
    "We can now create a `StochasticSolidMotor` object to define the uncertainties associated with the motor.\n",
    "In this example, we will apply more complex uncertainties to the motor parameters.\n",
    "\n",
    "The `StochasticSolidMotor` also has one special parameter which is the `total_impulse`. It lets us alter the total impulse of the motor while maintaining the thrust curve shape. This is particularly useful for motor uncertainties."
   ]
  },
  {
   "cell_type": "code",
   "execution_count": null,
   "metadata": {},
   "outputs": [],
   "source": [
    "stochastic_motor = StochasticSolidMotor(\n",
    "    solid_motor=motor,\n",
    "    burn_start_time=(0, 0.1, \"binomial\"),\n",
    "    grains_center_of_mass_position=0.001,\n",
    "    grain_density=50,\n",
    "    grain_separation=1 / 1000,\n",
    "    grain_initial_height=1 / 1000,\n",
    "    grain_initial_inner_radius=0.375 / 1000,\n",
    "    grain_outer_radius=0.375 / 1000,\n",
    "    total_impulse=(6500, 1000),\n",
    "    throat_radius=0.5 / 1000,\n",
    "    nozzle_radius=0.5 / 1000,\n",
    "    nozzle_position=0.001,\n",
    ")\n",
    "stochastic_motor.visualize_attributes()"
   ]
  },
  {
   "cell_type": "markdown",
   "metadata": {},
   "source": [
    "#### NOTE\n",
    "\n",
    "Pay special attention to how different input types are interpreted in the `StochasticSolidMotor` object by checking the printed object:\n",
    "\n",
    "\n",
    "<!-- - ``thrust_source`` was given as a list of 3 items, and is saved as is. This means that the simulation will randomly chose one item of that list, as desired -->\n",
    "\n",
    "- ``burn_start_time`` was given as a tuple of 3 items, specifying the nominal value, the standard deviation and the distribution type\n",
    "\n",
    "- ``total_impulse`` was given as a tuple of 2 numbers, so the distribution type was set to the default: `normal`\n",
    "\n",
    "- All other values set for the other parameters in the constructor are simple values, which means they are interpreted as standard deviation and the nominal value is taken from the ``motor``\n",
    "\n",
    "- The remaining parameters that are printed are just the nominal values from the ``motor``. In the ``Stochastic`` object they are saved as a list of one item\n",
    "\n"
   ]
  },
  {
   "cell_type": "markdown",
   "metadata": {},
   "source": [
    "Once again, we can illustrate the power of stochastic modeling by generating multiple instances of the `SolidMotor` class using the `StochasticSolidMotor` object.\n",
    "For each instance, we will calculate the total impulse and store the results in a list. This will show how the uncertainties in the motor parameters affect the total impulse over multiple iterations.\n"
   ]
  },
  {
   "cell_type": "code",
   "execution_count": null,
   "metadata": {},
   "outputs": [],
   "source": [
    "total_impulse = []\n",
    "for i in range(5):\n",
    "    rnd_motor = stochastic_motor.create_object()\n",
    "    total_impulse.append(rnd_motor.total_impulse)\n",
    "\n",
    "print(total_impulse)"
   ]
  },
  {
   "attachments": {},
   "cell_type": "markdown",
   "metadata": {},
   "source": [
    "### Rocket\n"
   ]
  },
  {
   "cell_type": "markdown",
   "metadata": {},
   "source": [
    "We can now create a `StochasticRocket` object to define the uncertainties associated with the rocket."
   ]
  },
  {
   "cell_type": "code",
   "execution_count": null,
   "metadata": {},
   "outputs": [],
   "source": [
    "stochastic_rocket = StochasticRocket(\n",
    "    rocket=rocket,\n",
    "    radius=0.0127 / 2000,\n",
    "    mass=(15.426, 0.5, \"normal\"),\n",
    "    inertia_11=(6.321, 0),\n",
    "    inertia_22=0.01,\n",
    "    inertia_33=0.01,\n",
    "    center_of_mass_without_motor=0,\n",
    ")\n",
    "stochastic_rocket.visualize_attributes()"
   ]
  },
  {
   "cell_type": "markdown",
   "metadata": {},
   "source": [
    "The `StochasticRocket` still needs to have its aerodynamic surfaces and parachutes added. \n",
    "\n",
    "We can also create stochastic models for each aerodynamic surface, although this is not mandatory."
   ]
  },
  {
   "cell_type": "code",
   "execution_count": null,
   "metadata": {},
   "outputs": [],
   "source": [
    "stochastic_nose_cone = StochasticNoseCone(\n",
    "    nosecone=nose_cone,\n",
    "    length=0.001,\n",
    ")\n",
    "\n",
    "stochastic_fin_set = StochasticTrapezoidalFins(\n",
    "    trapezoidal_fins=fin_set,\n",
    "    root_chord=0.0005,\n",
    "    tip_chord=0.0005,\n",
    "    span=0.0005,\n",
    ")\n",
    "\n",
    "stochastic_tail = StochasticTail(\n",
    "    tail=tail,\n",
    "    top_radius=0.001,\n",
    "    bottom_radius=0.001,\n",
    "    length=0.001,\n",
    ")\n",
    "\n",
    "stochastic_rail_buttons = StochasticRailButtons(\n",
    "    rail_buttons=rail_buttons, buttons_distance=0.001\n",
    ")\n",
    "\n",
    "stochastic_main = StochasticParachute(\n",
    "    parachute=Main,\n",
    "    cd_s=0.1,\n",
    "    lag=0.1,\n",
    ")\n",
    "\n",
    "stochastic_drogue = StochasticParachute(\n",
    "    parachute=Drogue,\n",
    "    cd_s=0.07,\n",
    "    lag=0.2,\n",
    ")"
   ]
  },
  {
   "cell_type": "markdown",
   "metadata": {},
   "source": [
    "Then we must add them to our stochastic rocket, much like we do in the normal Rocket.\n",
    "\n"
   ]
  },
  {
   "cell_type": "code",
   "execution_count": null,
   "metadata": {},
   "outputs": [],
   "source": [
    "stochastic_rocket.add_motor(stochastic_motor, position=0.001)\n",
    "stochastic_rocket.add_nose(stochastic_nose_cone, position=(1.134, 0.001))\n",
    "stochastic_rocket.add_trapezoidal_fins(stochastic_fin_set, position=(0.001, \"normal\"))\n",
    "stochastic_rocket.add_tail(stochastic_tail)\n",
    "stochastic_rocket.set_rail_buttons(\n",
    "    stochastic_rail_buttons, lower_button_position=(0.001, \"normal\")\n",
    ")\n",
    "stochastic_rocket.add_parachute(stochastic_main)\n",
    "stochastic_rocket.add_parachute(stochastic_drogue)"
   ]
  },
  {
   "cell_type": "markdown",
   "metadata": {},
   "source": [
    "#### NOTE\n",
    "\n",
    "The `position` arguments behave just like the other ``Stochastic`` classes parameters\n",
    "\n"
   ]
  },
  {
   "cell_type": "markdown",
   "metadata": {},
   "source": [
    "Now lets check how the `StochasticRocket` handled all these additions"
   ]
  },
  {
   "cell_type": "code",
   "execution_count": null,
   "metadata": {},
   "outputs": [],
   "source": [
    "stochastic_rocket.visualize_attributes()"
   ]
  },
  {
   "attachments": {},
   "cell_type": "markdown",
   "metadata": {},
   "source": [
    "\n",
    "### Flight\n"
   ]
  },
  {
   "cell_type": "markdown",
   "metadata": {},
   "source": [
    "After defining the `Flight`, we can create the corresponding `Stochastic` object to define the uncertainties of the input parameters."
   ]
  },
  {
   "cell_type": "code",
   "execution_count": null,
   "metadata": {},
   "outputs": [],
   "source": [
    "stochastic_flight = StochasticFlight(\n",
    "    flight=test_flight,\n",
    "    inclination=(84.7, 1),  # mean= 84.7, std=1\n",
    "    heading=(53, 2),  # mean= 53, std=2\n",
    ")\n",
    "stochastic_flight.visualize_attributes()"
   ]
  },
  {
   "attachments": {},
   "cell_type": "markdown",
   "metadata": {},
   "source": [
    "### Step 2: Starting the Monte Carlo Simulations\n"
   ]
  },
  {
   "attachments": {},
   "cell_type": "markdown",
   "metadata": {},
   "source": [
    "First, let's invoke the `MonteCarlo` class, we are going to need a filename to initialize it.\n",
    "The filename will be used either to save the results of the simulations or to load them\n",
    "from a previous ran simulation.\n"
   ]
  },
  {
   "cell_type": "code",
   "execution_count": null,
   "metadata": {},
   "outputs": [],
   "source": [
    "test_dispersion = MonteCarlo(\n",
    "    filename=\"monte_carlo_analysis_outputs/monte_carlo_class_example\",\n",
    "    environment=stochastic_env,\n",
    "    rocket=stochastic_rocket,\n",
    "    flight=stochastic_flight,\n",
    ")"
   ]
  },
  {
   "attachments": {},
   "cell_type": "markdown",
   "metadata": {},
   "source": [
    "Finally, let's simulate our flights. \n",
    "We can run the simulations using the method `MonteCarlo.simulate()`.\n",
    "\n",
    "Set `append=False` to overwrite the previous results, or `append=True` to add the new results to the previous ones.\n"
   ]
  },
  {
   "cell_type": "code",
   "execution_count": null,
   "metadata": {},
   "outputs": [],
   "source": [
    "test_dispersion.simulate(number_of_simulations=1000, append=False)"
   ]
  },
  {
   "attachments": {},
   "cell_type": "markdown",
   "metadata": {},
   "source": [
    "### Visualizing the results\n"
   ]
  },
  {
   "attachments": {},
   "cell_type": "markdown",
   "metadata": {},
   "source": [
    "Now we finally have the results of our Monte Carlo simulations loaded!\n",
    "Let's play with them.\n"
   ]
  },
  {
   "attachments": {},
   "cell_type": "markdown",
   "metadata": {},
   "source": [
    "First, we can print numerical information regarding the results of the simulations.\n"
   ]
  },
  {
   "cell_type": "code",
   "execution_count": null,
   "metadata": {},
   "outputs": [],
   "source": [
    "# You only need to import results if you did not run the simulations\n",
    "# test_dispersion.import_results()"
   ]
  },
  {
   "cell_type": "code",
   "execution_count": null,
   "metadata": {},
   "outputs": [],
   "source": [
    "test_dispersion.num_of_loaded_sims"
   ]
  },
  {
   "cell_type": "code",
   "execution_count": null,
   "metadata": {},
   "outputs": [],
   "source": [
    "test_dispersion.prints.all()"
   ]
  },
  {
   "attachments": {},
   "cell_type": "markdown",
   "metadata": {},
   "source": [
    "Secondly, we can plot the results of the simulations.\n"
   ]
  },
  {
   "cell_type": "code",
   "execution_count": null,
   "metadata": {},
   "outputs": [],
   "source": [
    "test_dispersion.plots.ellipses(xlim=(-200, 3500), ylim=(-200, 3500))"
   ]
  },
  {
   "cell_type": "code",
   "execution_count": null,
   "metadata": {},
   "outputs": [],
   "source": [
    "test_dispersion.plots.all()"
   ]
  },
  {
   "attachments": {},
   "cell_type": "markdown",
   "metadata": {},
   "source": [
    "Finally, one may also export the ellipses to a ``.kml`` file so it can be easily visualized in Google Earth\n"
   ]
  },
  {
   "cell_type": "code",
   "execution_count": null,
   "metadata": {},
   "outputs": [],
   "source": [
    "test_dispersion.export_ellipses_to_kml(\n",
    "    filename=\"monte_carlo_analysis_outputs/monte_carlo_class_example.kml\",\n",
    "    origin_lat=env.latitude,\n",
    "    origin_lon=env.longitude,\n",
    "    type=\"impact\",\n",
    ")"
   ]
  }
 ],
 "metadata": {
  "hide_input": false,
  "kernelspec": {
   "display_name": "Python 3.10.5 64-bit",
   "language": "python",
   "name": "python3"
  },
  "language_info": {
   "codemirror_mode": {
    "name": "ipython",
    "version": 3
   },
   "file_extension": ".py",
   "mimetype": "text/x-python",
   "name": "python",
   "nbconvert_exporter": "python",
   "pygments_lexer": "ipython3",
   "version": "3.10.11"
  },
  "vscode": {
   "interpreter": {
    "hash": "26de051ba29f2982a8de78e945f0abaf191376122a1563185a90213a26c5da77"
   }
  }
 },
 "nbformat": 4,
 "nbformat_minor": 2
}
