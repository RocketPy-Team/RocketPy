{
 "cells": [
  {
   "attachments": {},
   "cell_type": "markdown",
   "metadata": {},
   "source": [
    "# Monte Carlo sensitivity analysis simulation"
   ]
  },
  {
   "attachments": {},
   "cell_type": "markdown",
   "metadata": {},
   "source": [
    "This notebook shows how execute Monte Carlo simulations to create\n",
    "datasets used in the sensitivity analysis."
   ]
  },
  {
   "attachments": {},
   "cell_type": "markdown",
   "metadata": {},
   "source": [
    "First, let's import the necessary libraries"
   ]
  },
  {
   "cell_type": "code",
   "execution_count": 1,
   "metadata": {},
   "outputs": [],
   "source": [
    "from rocketpy import Environment, SolidMotor, Rocket, Flight, MonteCarlo, Function\n",
    "from rocketpy.stochastic import (\n",
    "    StochasticEnvironment,\n",
    "    StochasticSolidMotor,\n",
    "    StochasticRocket,\n",
    "    StochasticFlight,\n",
    "    StochasticNoseCone,\n",
    "    StochasticTail,\n",
    "    StochasticTrapezoidalFins,\n",
    "    StochasticParachute,\n",
    "    StochasticRailButtons,\n",
    ")\n",
    "import datetime"
   ]
  },
  {
   "cell_type": "markdown",
   "metadata": {},
   "source": [
    "## Set Distributions"
   ]
  },
  {
   "cell_type": "markdown",
   "metadata": {},
   "source": [
    "The Monte Carlo class allows us to express the parameters uncertainty\n",
    "by specifying a probability distribution. We consider two possibilities: either the\n",
    "parameter is constant and there is no uncertainty about it, or we propose a normal\n",
    "distribution and specify its mean and standard deviation. \n",
    "\n",
    "In this example, the goal of the sensitivity analysis is to study the rocket, motor, flight and parachute\n",
    "parameters influence in the flight outputs (e.g. apogee). The dictionary below defines \n",
    "the stochastic parameters along with their mean and standard deviation."
   ]
  },
  {
   "cell_type": "code",
   "execution_count": 2,
   "metadata": {},
   "outputs": [],
   "source": [
    "analysis_parameters = {\n",
    "    # Rocket properties\n",
    "    \"rocket_mass\": {\"mean\": 14.426, \"std\": 0.5},\n",
    "    \"rocket_radius\": {\"mean\": 127 / 2000, \"std\": 1 / 1000},\n",
    "    # Motor Properties\n",
    "    \"motors_dry_mass\": {\"mean\": 1.815, \"std\": 1 / 100},\n",
    "    \"motors_grain_density\": {\"mean\": 1815, \"std\": 50},\n",
    "    \"motors_total_impulse\": {\"mean\": 6500, \"std\": 50},\n",
    "    \"motors_burn_out_time\": {\"mean\": 3.9, \"std\": 0.2},\n",
    "    \"motors_nozzle_radius\": {\"mean\": 33 / 1000, \"std\": 0.5 / 1000},\n",
    "    \"motors_grain_separation\": {\"mean\": 5 / 1000, \"std\": 1 / 1000},\n",
    "    \"motors_grain_initial_height\": {\"mean\": 120 / 1000, \"std\": 1 / 100},\n",
    "    \"motors_grain_initial_inner_radius\": {\"mean\": 15 / 1000, \"std\": 0.375 / 1000},\n",
    "    \"motors_grain_outer_radius\": {\"mean\": 33 / 1000, \"std\": 0.375 / 1000},\n",
    "    # Parachutes\n",
    "    \"parachutes_main_cd_s\": {\"mean\": 10, \"std\": 0.1},\n",
    "    \"parachutes_main_lag\": {\"mean\": 1.5, \"std\": 0.1},\n",
    "    \"parachutes_drogue_cd_s\": {\"mean\": 1, \"std\": 0.07},\n",
    "    \"parachutes_drogue_lag\": {\"mean\": 1.5, \"std\": 0.2},\n",
    "    # Flight\n",
    "    \"heading\": {\"mean\": 53, \"std\": 2},\n",
    "    \"inclination\": {\"mean\": 84.7, \"std\": 1},\n",
    "}"
   ]
  },
  {
   "attachments": {},
   "cell_type": "markdown",
   "metadata": {},
   "source": [
    "## Create Standard Objects\n"
   ]
  },
  {
   "cell_type": "markdown",
   "metadata": {},
   "source": [
    "We will first create a standard RocketPy simulation objects (e.g. Environment, SolidMotor, etc.) to then create the Stochastic objects. All\n",
    "deterministic parameters are set to its values, and the stochastic ones are set to the `mean` value defined in the dictionary above.\n"
   ]
  },
  {
   "cell_type": "code",
   "execution_count": 3,
   "metadata": {},
   "outputs": [
    {
     "name": "stderr",
     "output_type": "stream",
     "text": [
      "/home/lprates/Desktop/Work/RocketPy/RocketPy/rocketpy/mathutils/function.py:3125: UserWarning: Extrapolation method set to 'constant' because the linear method is not supported.\n",
      "  warnings.warn(\n"
     ]
    }
   ],
   "source": [
    "# Environment\n",
    "\n",
    "env = Environment(latitude=32.990254, longitude=-106.974998, elevation=1400)\n",
    "tomorrow = datetime.date.today() + datetime.timedelta(days=1)\n",
    "env.set_date((tomorrow.year, tomorrow.month, tomorrow.day, 12))\n",
    "env.set_atmospheric_model(type=\"Forecast\", file=\"GFS\")\n",
    "\n",
    "# Motor\n",
    "motor = SolidMotor(\n",
    "    thrust_source=\"../../../data/motors/Cesaroni_M1670.eng\",\n",
    "    dry_mass=analysis_parameters[\"motors_dry_mass\"][\"mean\"],\n",
    "    nozzle_radius=analysis_parameters[\"motors_nozzle_radius\"][\"mean\"],\n",
    "    grain_density=analysis_parameters[\"motors_grain_density\"][\"mean\"],\n",
    "    burn_time=analysis_parameters[\"motors_burn_out_time\"][\"mean\"],\n",
    "    grain_outer_radius=analysis_parameters[\"motors_grain_outer_radius\"][\"mean\"],\n",
    "    grain_initial_inner_radius=analysis_parameters[\"motors_grain_initial_inner_radius\"][\"mean\"],\n",
    "    grain_initial_height=analysis_parameters[\"motors_grain_initial_height\"][\"mean\"],\n",
    "    grain_separation=analysis_parameters[\"motors_grain_separation\"][\"mean\"],\n",
    "    dry_inertia=(0.125, 0.125, 0.002),\n",
    "    grain_number=5,\n",
    "    grains_center_of_mass_position=0.397,\n",
    "    center_of_dry_mass_position=0.317,\n",
    "    nozzle_position=0,\n",
    "    throat_radius=11 / 1000,\n",
    "    coordinate_system_orientation=\"nozzle_to_combustion_chamber\",\n",
    ")\n",
    "\n",
    "# Rocket\n",
    "rocket = Rocket(\n",
    "    radius=analysis_parameters[\"rocket_radius\"][\"mean\"],\n",
    "    mass=analysis_parameters[\"rocket_mass\"][\"mean\"],\n",
    "    inertia=(6.321, 6.321, 0.034),\n",
    "    power_off_drag=\"../../../data/calisto/powerOffDragCurve.csv\",\n",
    "    power_on_drag=\"../../../data/calisto/powerOnDragCurve.csv\",\n",
    "    center_of_mass_without_motor=0,\n",
    "    coordinate_system_orientation=\"tail_to_nose\",\n",
    ")\n",
    "\n",
    "rail_buttons = rocket.set_rail_buttons(\n",
    "    upper_button_position=0.0818,\n",
    "    lower_button_position=-0.618,\n",
    "    angular_position=45,\n",
    ")\n",
    "\n",
    "rocket.add_motor(motor, position=-1.255)\n",
    "\n",
    "nose_cone = rocket.add_nose(length=0.55829, kind=\"vonKarman\", position=1.278)\n",
    "\n",
    "fin_set = rocket.add_trapezoidal_fins(\n",
    "    n=4,\n",
    "    root_chord=0.120,\n",
    "    tip_chord=0.060,\n",
    "    span=0.110,\n",
    "    position=-1.04956,\n",
    "    cant_angle=0.5,\n",
    "    airfoil=(\"../../../data/calisto/NACA0012-radians.csv\", \"radians\"),\n",
    ")\n",
    "\n",
    "tail = rocket.add_tail(\n",
    "    top_radius=0.0635, bottom_radius=0.0435, length=0.060, position=-1.194656\n",
    ")\n",
    "Main = rocket.add_parachute(\n",
    "    \"Main\",\n",
    "    cd_s=analysis_parameters[\"parachutes_main_cd_s\"][\"mean\"],\n",
    "    lag=analysis_parameters[\"parachutes_main_lag\"][\"mean\"],\n",
    "    trigger=800,\n",
    "    sampling_rate=105,\n",
    "    noise=(0, 8.3, 0.5),\n",
    ")\n",
    "\n",
    "Drogue = rocket.add_parachute(\n",
    "    \"Drogue\",\n",
    "    cd_s=analysis_parameters[\"parachutes_drogue_cd_s\"][\"mean\"],\n",
    "    lag=analysis_parameters[\"parachutes_drogue_lag\"][\"mean\"],\n",
    "    trigger=\"apogee\",\n",
    "    sampling_rate=105,\n",
    "    noise=(0, 8.3, 0.5),\n",
    ")\n",
    "\n",
    "# Flight\n",
    "test_flight = Flight(\n",
    "    rocket=rocket,\n",
    "    environment=env,\n",
    "    rail_length=5,\n",
    "    inclination=analysis_parameters[\"inclination\"][\"mean\"],\n",
    "    heading=analysis_parameters[\"heading\"][\"mean\"],\n",
    ")"
   ]
  },
  {
   "cell_type": "markdown",
   "metadata": {},
   "source": [
    "## Create Stochastic Objects"
   ]
  },
  {
   "cell_type": "markdown",
   "metadata": {},
   "source": [
    "For each RocketPy object, we will create a ``Stochastic`` counterpart that extends the initial model, allowing us to define the uncertainties of each input parameter. The uncertainty is set as the `std` of the uncertainty dictionary."
   ]
  },
  {
   "cell_type": "markdown",
   "metadata": {},
   "source": [
    "### Stochastic Environment"
   ]
  },
  {
   "cell_type": "markdown",
   "metadata": {},
   "source": [
    "We create a `StochasticEnvironment` to pass to the Monte Carlo class. Our initial goal\n",
    "in the sensitivity analysis is to study the influence of motor, rocket, flight \n",
    "and parachute parameters in the flight variables. Therefore, the enviroment is kept\n",
    "constant and equals to the prediction made for tomorrow. Note we do not take into \n",
    "account the  uncertainty of the prediction."
   ]
  },
  {
   "cell_type": "code",
   "execution_count": 4,
   "metadata": {},
   "outputs": [
    {
     "name": "stdout",
     "output_type": "stream",
     "text": [
      "Reporting the attributes of the `StochasticEnvironment` object:\n",
      "\n",
      "Constant Attributes:\n",
      "\tdatum                    SIRGAS2000\n",
      "\televation                1471.4660781502985\n",
      "\tgravity                  Function from R1 to R1 : (height (m)) → (gravity (m/s²))\n",
      "\tlatitude                 32.990254\n",
      "\tlongitude                -106.974998\n",
      "\ttimezone                 UTC\n",
      "\n",
      "Stochastic Attributes:\n",
      "\twind_velocity_x_factor   1.00000 ± 0.00000 (normal)\n",
      "\twind_velocity_y_factor   1.00000 ± 0.00000 (normal)\n"
     ]
    }
   ],
   "source": [
    "stochastic_env = StochasticEnvironment(\n",
    "    environment=env,\n",
    ")\n",
    "\n",
    "stochastic_env.visualize_attributes()"
   ]
  },
  {
   "attachments": {},
   "cell_type": "markdown",
   "metadata": {},
   "source": [
    "### Motor\n"
   ]
  },
  {
   "cell_type": "markdown",
   "metadata": {},
   "source": [
    "We can now create a `StochasticSolidMotor` object to define the uncertainties associated with the motor."
   ]
  },
  {
   "cell_type": "code",
   "execution_count": 5,
   "metadata": {},
   "outputs": [
    {
     "name": "stdout",
     "output_type": "stream",
     "text": [
      "Reporting the attributes of the `StochasticSolidMotor` object:\n",
      "\n",
      "Constant Attributes:\n",
      "\tburn_start_time                  0\n",
      "\tcenter_of_dry_mass_position      0.317\n",
      "\tcoordinate_system_orientation    nozzle_to_combustion_chamber\n",
      "\tdry_I_11                         0.125\n",
      "\tdry_I_12                         0\n",
      "\tdry_I_13                         0\n",
      "\tdry_I_22                         0.125\n",
      "\tdry_I_23                         0\n",
      "\tdry_I_33                         0.002\n",
      "\tgrain_number                     5\n",
      "\tgrains_center_of_mass_position   0.397\n",
      "\tinterpolate                      linear\n",
      "\tnozzle_position                  0\n",
      "\tthroat_radius                    0.011\n",
      "\tthrust_source                    [[0, 0], [0.055, 100.0], [0.092, 1500.0], [0.1, 2000.0], [0.15, 2200.0], [0.2, 1800.0], [0.5, 1950.0], [1.0, 2034.0], [1.5, 2000.0], [2.0, 1900.0], [2.5, 1760.0], [2.9, 1700.0], [3.0, 1650.0], [3.3, 530.0], [3.4, 350.0], [3.9, 0.0]]\n",
      "\n",
      "Stochastic Attributes:\n",
      "\tburn_out_time                    3.90000 ± 0.20000 (normal)\n",
      "\tdry_mass                         1.81500 ± 0.01000 (normal)\n",
      "\tgrain_density                    1815.00000 ± 50.00000 (normal)\n",
      "\tgrain_initial_height             0.12000 ± 0.01000 (normal)\n",
      "\tgrain_initial_inner_radius       0.01500 ± 0.00038 (normal)\n",
      "\tgrain_outer_radius               0.03300 ± 0.00038 (normal)\n",
      "\tgrain_separation                 0.00500 ± 0.00100 (normal)\n",
      "\tnozzle_radius                    0.03300 ± 0.00050 (normal)\n",
      "\ttotal_impulse                    6500.00000 ± 50.00000 (normal)\n"
     ]
    }
   ],
   "source": [
    "stochastic_motor = StochasticSolidMotor(\n",
    "    solid_motor=motor,\n",
    "    dry_mass = analysis_parameters[\"motors_dry_mass\"][\"std\"],\n",
    "    grain_density = analysis_parameters[\"motors_grain_density\"][\"std\"], \n",
    "    burn_out_time = analysis_parameters[\"motors_burn_out_time\"][\"std\"],\n",
    "    nozzle_radius = analysis_parameters[\"motors_nozzle_radius\"][\"std\"],\n",
    "    grain_separation = analysis_parameters[\"motors_grain_separation\"][\"std\"],\n",
    "    grain_initial_height = analysis_parameters[\"motors_grain_initial_height\"][\"std\"],\n",
    "    grain_initial_inner_radius = analysis_parameters[\"motors_grain_initial_inner_radius\"][\"std\"],\n",
    "    grain_outer_radius = analysis_parameters[\"motors_grain_outer_radius\"][\"std\"],\n",
    "    total_impulse=(analysis_parameters[\"motors_total_impulse\"][\"mean\"], \n",
    "                   analysis_parameters[\"motors_total_impulse\"][\"std\"]),\n",
    ")\n",
    "stochastic_motor.visualize_attributes()"
   ]
  },
  {
   "attachments": {},
   "cell_type": "markdown",
   "metadata": {},
   "source": [
    "### Rocket\n"
   ]
  },
  {
   "cell_type": "markdown",
   "metadata": {},
   "source": [
    "We can now create a `StochasticRocket` object to define the uncertainties associated with the rocket."
   ]
  },
  {
   "cell_type": "code",
   "execution_count": 6,
   "metadata": {},
   "outputs": [
    {
     "name": "stdout",
     "output_type": "stream",
     "text": [
      "Reporting the attributes of the `StochasticRocket` object:\n",
      "\n",
      "Constant Attributes:\n",
      "\tI_11_without_motor              6.321\n",
      "\tI_12_without_motor              0\n",
      "\tI_13_without_motor              0\n",
      "\tI_22_without_motor              6.321\n",
      "\tI_23_without_motor              0\n",
      "\tI_33_without_motor              0.034\n",
      "\tcenter_of_mass_without_motor    0\n",
      "\tcoordinate_system_orientation   tail_to_nose\n",
      "\tpower_off_drag                  Function from R1 to R1 : (Mach Number) → (Drag Coefficient with Power Off)\n",
      "\tpower_on_drag                   Function from R1 to R1 : (Mach Number) → (Drag Coefficient with Power On)\n",
      "\n",
      "Stochastic Attributes:\n",
      "\tmass                            14.42600 ± 0.50000 (normal)\n",
      "\tpower_off_drag_factor           1.00000 ± 0.00000 (normal)\n",
      "\tpower_on_drag_factor            1.00000 ± 0.00000 (normal)\n",
      "\tradius                          0.06350 ± 0.00100 (normal)\n"
     ]
    }
   ],
   "source": [
    "stochastic_rocket = StochasticRocket(\n",
    "    rocket=rocket,\n",
    "    radius=analysis_parameters[\"rocket_radius\"][\"std\"],\n",
    "    mass = analysis_parameters[\"rocket_mass\"][\"std\"],\n",
    ")\n",
    "stochastic_rocket.visualize_attributes()"
   ]
  },
  {
   "cell_type": "markdown",
   "metadata": {},
   "source": [
    "The `StochasticRocket` still needs to have its aerodynamic surfaces and parachutes added.\n",
    "As discussed, we need to set the uncertainties in parachute parameters."
   ]
  },
  {
   "cell_type": "code",
   "execution_count": 7,
   "metadata": {},
   "outputs": [],
   "source": [
    "stochastic_nose_cone = StochasticNoseCone(\n",
    "    nosecone=nose_cone,\n",
    ")\n",
    "\n",
    "stochastic_fin_set = StochasticTrapezoidalFins(\n",
    "    trapezoidal_fins=fin_set,\n",
    ")\n",
    "\n",
    "stochastic_tail = StochasticTail(\n",
    "    tail=tail,\n",
    ")\n",
    "\n",
    "stochastic_rail_buttons = StochasticRailButtons(\n",
    "    rail_buttons=rail_buttons, \n",
    ")\n",
    "\n",
    "stochastic_main = StochasticParachute(\n",
    "    parachute=Main,\n",
    "    cd_s=analysis_parameters[\"parachutes_main_cd_s\"][\"std\"],\n",
    "    lag=analysis_parameters[\"parachutes_main_lag\"][\"std\"],\n",
    ")\n",
    "\n",
    "stochastic_drogue = StochasticParachute(\n",
    "    parachute=Drogue,\n",
    "    cd_s=analysis_parameters[\"parachutes_drogue_cd_s\"][\"std\"],\n",
    "    lag=analysis_parameters[\"parachutes_drogue_lag\"][\"std\"],\n",
    ")"
   ]
  },
  {
   "cell_type": "markdown",
   "metadata": {},
   "source": [
    "Then we must add them to our stochastic rocket, much like we do in the normal Rocket.\n",
    "\n"
   ]
  },
  {
   "cell_type": "code",
   "execution_count": 8,
   "metadata": {},
   "outputs": [
    {
     "name": "stdout",
     "output_type": "stream",
     "text": [
      "Reporting the attributes of the `StochasticRocket` object:\n",
      "\n",
      "Constant Attributes:\n",
      "\tI_11_without_motor              6.321\n",
      "\tI_12_without_motor              0\n",
      "\tI_13_without_motor              0\n",
      "\tI_22_without_motor              6.321\n",
      "\tI_23_without_motor              0\n",
      "\tI_33_without_motor              0.034\n",
      "\tcenter_of_mass_without_motor    0\n",
      "\tcoordinate_system_orientation   tail_to_nose\n",
      "\tpower_off_drag                  Function from R1 to R1 : (Mach Number) → (Drag Coefficient with Power Off)\n",
      "\tpower_on_drag                   Function from R1 to R1 : (Mach Number) → (Drag Coefficient with Power On)\n",
      "\n",
      "Stochastic Attributes:\n",
      "\tmass                            14.42600 ± 0.50000 (normal)\n",
      "\tpower_off_drag_factor           1.00000 ± 0.00000 (normal)\n",
      "\tpower_on_drag_factor            1.00000 ± 0.00000 (normal)\n",
      "\tradius                          0.06350 ± 0.00100 (normal)\n"
     ]
    }
   ],
   "source": [
    "stochastic_rocket.add_motor(stochastic_motor)\n",
    "stochastic_rocket.add_nose(stochastic_nose_cone)\n",
    "stochastic_rocket.add_trapezoidal_fins(stochastic_fin_set,)\n",
    "stochastic_rocket.add_tail(stochastic_tail)\n",
    "stochastic_rocket.set_rail_buttons(\n",
    "    stochastic_rail_buttons\n",
    ")\n",
    "stochastic_rocket.add_parachute(stochastic_main)\n",
    "stochastic_rocket.add_parachute(stochastic_drogue)\n",
    "stochastic_rocket.visualize_attributes()"
   ]
  },
  {
   "attachments": {},
   "cell_type": "markdown",
   "metadata": {},
   "source": [
    "\n",
    "### Flight\n"
   ]
  },
  {
   "cell_type": "markdown",
   "metadata": {},
   "source": [
    "The setup is concluded by creating the `StochasticFlight`."
   ]
  },
  {
   "cell_type": "code",
   "execution_count": 9,
   "metadata": {},
   "outputs": [
    {
     "name": "stdout",
     "output_type": "stream",
     "text": [
      "Reporting the attributes of the `StochasticFlight` object:\n",
      "\n",
      "Constant Attributes:\n",
      "\trail_length           5\n",
      "\n",
      "Stochastic Attributes:\n",
      "\theading               53.00000 ± 2.00000 (normal)\n",
      "\tinclination           84.70000 ± 1.00000 (normal)\n"
     ]
    }
   ],
   "source": [
    "stochastic_flight = StochasticFlight(\n",
    "    flight=test_flight,\n",
    "    inclination=analysis_parameters[\"inclination\"][\"std\"],\n",
    "    heading=analysis_parameters[\"heading\"][\"std\"],\n",
    ")\n",
    "stochastic_flight.visualize_attributes()"
   ]
  },
  {
   "attachments": {},
   "cell_type": "markdown",
   "metadata": {},
   "source": [
    "### Run the Monte Carlo Simulations\n"
   ]
  },
  {
   "attachments": {},
   "cell_type": "markdown",
   "metadata": {},
   "source": [
    "Finally, we simulate our flights and save the data."
   ]
  },
  {
   "cell_type": "code",
   "execution_count": 10,
   "metadata": {},
   "outputs": [
    {
     "name": "stderr",
     "output_type": "stream",
     "text": [
      "/home/lprates/Desktop/Work/RocketPy/RocketPy/rocketpy/simulation/monte_carlo.py:112: UserWarning: This class is still under testing and some attributes may be changed in next versions\n",
      "  warnings.warn(\n"
     ]
    },
    {
     "name": "stdout",
     "output_type": "stream",
     "text": [
      "The following input file was imported: monte_carlo_analysis_outputs/sensitivity_analysis_data.inputs.txt\n",
      "A total of 100 simulations results were loaded from the following output file: monte_carlo_analysis_outputs/sensitivity_analysis_data.outputs.txt\n",
      "\n",
      "The following error file was imported: monte_carlo_analysis_outputs/sensitivity_analysis_data.errors.txt\n",
      "Completed 100 iterations. Total CPU time: 72.6 s. Total wall time: 72.6 sed time left: 0 s \n",
      "Saving results.  \n",
      "Results saved to monte_carlo_analysis_outputs/sensitivity_analysis_data.outputs.txt\n"
     ]
    }
   ],
   "source": [
    "test_dispersion = MonteCarlo(\n",
    "    filename=\"monte_carlo_analysis_outputs/sensitivity_analysis_data\",\n",
    "    environment=stochastic_env,\n",
    "    rocket=stochastic_rocket,\n",
    "    flight=stochastic_flight,\n",
    ")\n",
    "test_dispersion.simulate(number_of_simulations=100, append=False)"
   ]
  },
  {
   "cell_type": "markdown",
   "metadata": {},
   "source": [
    "We give a last check on the variables summary results."
   ]
  },
  {
   "cell_type": "code",
   "execution_count": 92,
   "metadata": {},
   "outputs": [
    {
     "name": "stdout",
     "output_type": "stream",
     "text": [
      "Monte Carlo Simulation by RocketPy\n",
      "Data Source:  monte_carlo_analysis_outputs/sensitivity_analysis_data\n",
      "Number of simulations:  100\n",
      "Results: \n",
      "\n",
      "                Parameter            Mean       Std. Dev.\n",
      "------------------------------------------------------------\n",
      "     frontal_surface_wind          -0.993           0.094\n",
      " initial_stability_margin           2.215           0.096\n",
      "out_of_rail_stability_margin           2.274           0.092\n",
      "                 x_impact        1243.893         112.465\n",
      "                  t_final         311.568          12.063\n",
      "         out_of_rail_time           0.348           0.014\n",
      "                 apogee_y         669.619          78.851\n",
      "          max_mach_number           0.908           0.031\n",
      "     out_of_rail_velocity          26.703           1.009\n",
      "     lateral_surface_wind          -2.783           0.034\n",
      "                   apogee        5203.714         125.524\n",
      "                 y_impact         213.037         100.342\n",
      "                 apogee_x         494.253          97.007\n",
      "              apogee_time          27.260           0.345\n",
      "          impact_velocity          -5.639           0.104\n"
     ]
    }
   ],
   "source": [
    "test_dispersion.prints.all()"
   ]
  }
 ],
 "metadata": {
  "hide_input": false,
  "kernelspec": {
   "display_name": "Python 3.10.5 64-bit",
   "language": "python",
   "name": "python3"
  },
  "language_info": {
   "codemirror_mode": {
    "name": "ipython",
    "version": 3
   },
   "file_extension": ".py",
   "mimetype": "text/x-python",
   "name": "python",
   "nbconvert_exporter": "python",
   "pygments_lexer": "ipython3",
   "version": "3.12.2"
  },
  "vscode": {
   "interpreter": {
    "hash": "26de051ba29f2982a8de78e945f0abaf191376122a1563185a90213a26c5da77"
   }
  }
 },
 "nbformat": 4,
 "nbformat_minor": 2
}
