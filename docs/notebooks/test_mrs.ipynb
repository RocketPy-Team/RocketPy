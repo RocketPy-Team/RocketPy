{
 "cells": [
  {
   "cell_type": "markdown",
   "metadata": {},
   "source": [
    "# Quick test notebook for MRS"
   ]
  },
  {
   "cell_type": "code",
   "execution_count": 30,
   "metadata": {},
   "outputs": [
    {
     "name": "stdout",
     "output_type": "stream",
     "text": [
      "The autoreload extension is already loaded. To reload it, use:\n",
      "  %reload_ext autoreload\n"
     ]
    }
   ],
   "source": [
    "# We import these lines for debugging purposes, only works on Jupyter Notebook\n",
    "%load_ext autoreload\n",
    "%autoreload 2"
   ]
  },
  {
   "cell_type": "code",
   "execution_count": 31,
   "metadata": {},
   "outputs": [],
   "source": [
    "from rocketpy.simulation.multivariate_rejection_sampler import (\n",
    "    MultivariateRejectionSampler,\n",
    ")\n",
    "from rocketpy import MonteCarlo\n",
    "from scipy.stats import norm\n",
    "import numpy as np"
   ]
  },
  {
   "cell_type": "code",
   "execution_count": 32,
   "metadata": {},
   "outputs": [],
   "source": [
    "monte_carlo_filepath = (\n",
    "    \"monte_carlo_analysis/monte_carlo_analysis_outputs/monte_carlo_class_example\"\n",
    ")\n",
    "mrs_filepath = \"monte_carlo_analysis/monte_carlo_analysis_outputs/mrs\"\n",
    "old_mass_pdf = norm(15.426, 0.5).pdf\n",
    "new_mass_pdf = norm(15, 0.5).pdf\n",
    "distribution_dict = {\n",
    "    \"mass\": (old_mass_pdf, new_mass_pdf),\n",
    "}\n",
    "mrs = MultivariateRejectionSampler(\n",
    "    monte_carlo_filepath=monte_carlo_filepath,\n",
    "    mrs_filepath=mrs_filepath,\n",
    ")"
   ]
  },
  {
   "cell_type": "code",
   "execution_count": 33,
   "metadata": {},
   "outputs": [],
   "source": [
    "mrs.sample(distribution_dict=distribution_dict)"
   ]
  },
  {
   "cell_type": "code",
   "execution_count": 34,
   "metadata": {},
   "outputs": [
    {
     "name": "stdout",
     "output_type": "stream",
     "text": [
      "The following input file was imported: monte_carlo_analysis/monte_carlo_analysis_outputs/mrs.inputs.txt\n",
      "A total of 116 simulations results were loaded from the following output file: monte_carlo_analysis/monte_carlo_analysis_outputs/mrs.outputs.txt\n",
      "\n",
      "The following error file was imported: monte_carlo_analysis/monte_carlo_analysis_outputs/mrs.errors.txt\n"
     ]
    }
   ],
   "source": [
    "mrs_results = MonteCarlo(mrs_filepath, None, None, None)"
   ]
  },
  {
   "cell_type": "code",
   "execution_count": 35,
   "metadata": {},
   "outputs": [
    {
     "name": "stdout",
     "output_type": "stream",
     "text": [
      "A total of 116 simulations results were loaded from the following output file: monte_carlo_analysis/monte_carlo_analysis_outputs/mrs.outputs.txt\n",
      "\n",
      "The following input file was imported: monte_carlo_analysis/monte_carlo_analysis_outputs/mrs.inputs.txt\n",
      "The following error file was imported: monte_carlo_analysis/monte_carlo_analysis_outputs/mrs.errors.txt\n"
     ]
    }
   ],
   "source": [
    "mrs_results.import_results()"
   ]
  },
  {
   "cell_type": "code",
   "execution_count": 36,
   "metadata": {},
   "outputs": [
    {
     "name": "stdout",
     "output_type": "stream",
     "text": [
      "MRS mass mean after resample: 15.041934326472004\n",
      "MRS mass std after resample: 0.48924085702427966\n"
     ]
    }
   ],
   "source": [
    "mrs_mass_list = []\n",
    "for single_input_dict in mrs_results.inputs_log:\n",
    "    mrs_mass_list.append(single_input_dict[\"mass\"])\n",
    "\n",
    "print(f\"MRS mass mean after resample: {np.mean(mrs_mass_list)}\")\n",
    "print(f\"MRS mass std after resample: {np.std(mrs_mass_list)}\")"
   ]
  },
  {
   "cell_type": "code",
   "execution_count": 37,
   "metadata": {},
   "outputs": [
    {
     "data": {
      "text/plain": [
       "107.0"
      ]
     },
     "execution_count": 37,
     "metadata": {},
     "output_type": "execute_result"
    }
   ],
   "source": [
    "mrs.expected_sample_size"
   ]
  },
  {
   "cell_type": "code",
   "execution_count": null,
   "metadata": {},
   "outputs": [],
   "source": []
  }
 ],
 "metadata": {
  "kernelspec": {
   "display_name": "Python 3",
   "language": "python",
   "name": "python3"
  },
  "language_info": {
   "codemirror_mode": {
    "name": "ipython",
    "version": 3
   },
   "file_extension": ".py",
   "mimetype": "text/x-python",
   "name": "python",
   "nbconvert_exporter": "python",
   "pygments_lexer": "ipython3",
   "version": "3.10.12"
  }
 },
 "nbformat": 4,
 "nbformat_minor": 2
}
