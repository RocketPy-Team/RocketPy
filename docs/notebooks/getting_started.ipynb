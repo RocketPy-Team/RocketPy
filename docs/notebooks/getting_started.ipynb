{
 "cells": [
  {
   "attachments": {},
   "cell_type": "markdown",
   "metadata": {
    "colab_type": "text",
    "id": "nvAT8wcRNVEk"
   },
   "source": [
    "# Getting Started\n"
   ]
  },
  {
   "attachments": {},
   "cell_type": "markdown",
   "metadata": {
    "colab_type": "text",
    "id": "55zcnvqdNVEo"
   },
   "source": [
    "Here we go through a complete rocket trajectory simulation to get you started.\n",
    "\n",
    "Also, a more in detail complete description of the simulation can also be found in the [First Simulation Section of the RocketPy Documentation](https://docs.rocketpy.org/en/latest/user/first_simulation.html).\n",
    "\n",
    "If you want, you can open this notebook in Google Colab by clicking the badge below.\n",
    "\n",
    "[![Open In Colab](https://colab.research.google.com/assets/colab-badge.svg)](https://colab.research.google.com/github/RocketPy-Team/rocketpy/blob/master/docs/notebooks/getting_started_colab.ipynb)\n",
    "\n",
    "Let's start by importing the rocketpy module.\n"
   ]
  },
  {
   "cell_type": "code",
   "execution_count": null,
   "metadata": {},
   "outputs": [],
   "source": [
    "%load_ext autoreload\n",
    "%autoreload 2"
   ]
  },
  {
   "cell_type": "code",
   "execution_count": null,
   "metadata": {
    "colab": {},
    "colab_type": "code",
    "id": "XGK9M8ecNVEp"
   },
   "outputs": [],
   "source": [
    "from rocketpy import Environment, SolidMotor, Rocket, Flight"
   ]
  },
  {
   "attachments": {},
   "cell_type": "markdown",
   "metadata": {
    "colab_type": "text",
    "id": "ImgkhEkZNVE8"
   },
   "source": [
    "If you are using Jupyter Notebooks, it is recommended to run the following line to make matplotlib plots which will be shown later interactive and higher quality.\n"
   ]
  },
  {
   "cell_type": "code",
   "execution_count": null,
   "metadata": {
    "colab": {},
    "colab_type": "code",
    "id": "uRa566HoNVE9"
   },
   "outputs": [],
   "source": [
    "%matplotlib widget"
   ]
  },
  {
   "attachments": {},
   "cell_type": "markdown",
   "metadata": {
    "colab_type": "text",
    "id": "sSeqramENVFB"
   },
   "source": [
    "## Setting Up a Simulation\n"
   ]
  },
  {
   "attachments": {},
   "cell_type": "markdown",
   "metadata": {
    "colab_type": "text",
    "id": "Vm4ZHAnnNVFC"
   },
   "source": [
    "### Creating an Environment for Spaceport America\n",
    "\n",
    "The `Environment` class is used to define the atmosphere, the winds, and the gravity models.\n",
    "\n",
    "You can find more information about the `Environment` class in the [Environment Class Usage Docs](https://docs.rocketpy.org/en/latest/notebooks/environment/environment_class_usage.html).\n"
   ]
  },
  {
   "cell_type": "code",
   "execution_count": null,
   "metadata": {
    "colab": {},
    "colab_type": "code",
    "id": "d7mooAZONVFD"
   },
   "outputs": [],
   "source": [
    "env = Environment(latitude=32.990254, longitude=-106.974998, elevation=1400)"
   ]
  },
  {
   "attachments": {},
   "cell_type": "markdown",
   "metadata": {
    "colab_type": "text",
    "id": "Fz8Ha6usNVFH"
   },
   "source": [
    "To get weather data from the GFS forecast, available online, we run the following lines.\n",
    "\n",
    "First, we set tomorrow's date.\n"
   ]
  },
  {
   "cell_type": "code",
   "execution_count": null,
   "metadata": {
    "colab": {},
    "colab_type": "code",
    "id": "5kl-Je8dNVFI"
   },
   "outputs": [],
   "source": [
    "import datetime\n",
    "\n",
    "tomorrow = datetime.date.today() + datetime.timedelta(days=1)\n",
    "\n",
    "env.set_date(\n",
    "    (tomorrow.year, tomorrow.month, tomorrow.day, 12)\n",
    ")  # Hour given in UTC time"
   ]
  },
  {
   "attachments": {},
   "cell_type": "markdown",
   "metadata": {
    "colab_type": "text",
    "id": "or5MLF9gNVFM"
   },
   "source": [
    "Then, we tell env to use a GFS forecast to get the atmospheric conditions for flight.\n",
    "\n",
    "Don't mind the warning, it just means that not all variables, such as wind speed or atmospheric temperature, are available at all altitudes given by the forecast.\n"
   ]
  },
  {
   "cell_type": "code",
   "execution_count": null,
   "metadata": {
    "colab": {},
    "colab_type": "code",
    "id": "g73fa7DWNVFN"
   },
   "outputs": [],
   "source": [
    "env.set_atmospheric_model(type=\"Forecast\", file=\"GFS\")"
   ]
  },
  {
   "attachments": {},
   "cell_type": "markdown",
   "metadata": {
    "colab_type": "text",
    "id": "wSnZQuRYNVFS"
   },
   "source": [
    "We can see what the weather will look like by calling the info method!\n"
   ]
  },
  {
   "cell_type": "code",
   "execution_count": null,
   "metadata": {
    "colab": {},
    "colab_type": "code",
    "id": "H_AMjVTjNVFT"
   },
   "outputs": [],
   "source": [
    "env.max_expected_height = 5000  # adjust the plots to this height\n",
    "env.info()"
   ]
  },
  {
   "attachments": {},
   "cell_type": "markdown",
   "metadata": {
    "colab_type": "text",
    "id": "Aksbs-pMNVFW"
   },
   "source": [
    "### Creating a Motor\n",
    "\n",
    "A solid rocket motor is used in this case. To create a motor, the SolidMotor class is used and the required arguments are given.\n",
    "\n",
    "The SolidMotor class requires the user to have a thrust curve ready. This can come either from a .eng file for a commercial motor, such as below, or a .csv file from a static test measurement.\n",
    "\n",
    "Besides the thrust curve, other parameters such as grain properties and nozzle dimensions must also be given.\n",
    "\n",
    "See [Solid Motor Class Usage Docs](https://docs.rocketpy.org/en/latest/user/motors/solidmotor.html) for more information.\n"
   ]
  },
  {
   "cell_type": "code",
   "execution_count": null,
   "metadata": {
    "colab": {},
    "colab_type": "code",
    "id": "Vx1dZObwNVFX"
   },
   "outputs": [],
   "source": [
    "# IMPORTANT: modify the file path below to match your own system\n",
    "\n",
    "Pro75M1670 = SolidMotor(\n",
    "    thrust_source=\"../../data/motors/Cesaroni_M1670.eng\",\n",
    "    dry_mass=1.815,\n",
    "    dry_inertia=(0.125, 0.125, 0.002),\n",
    "    nozzle_radius=33 / 1000,\n",
    "    grain_number=5,\n",
    "    grain_density=1815,\n",
    "    grain_outer_radius=33 / 1000,\n",
    "    grain_initial_inner_radius=15 / 1000,\n",
    "    grain_initial_height=120 / 1000,\n",
    "    grain_separation=5 / 1000,\n",
    "    grains_center_of_mass_position=0.397,\n",
    "    center_of_dry_mass_position=0.317,\n",
    "    nozzle_position=0,\n",
    "    burn_time=3.9,\n",
    "    throat_radius=11 / 1000,\n",
    "    coordinate_system_orientation=\"nozzle_to_combustion_chamber\",\n",
    ")"
   ]
  },
  {
   "cell_type": "markdown",
   "metadata": {},
   "source": [
    "**Pay special attention to _position_ related parameters:**\n",
    "More details on [Positions and Coordinate Systems](https://docs.rocketpy.org/en/latest/user/positions.html)\n"
   ]
  },
  {
   "attachments": {},
   "cell_type": "markdown",
   "metadata": {},
   "source": [
    "To see what our thrust curve looks like, along with other import properties, we invoke the info method yet again. You may try the all_info method if you want more information all at once!\n"
   ]
  },
  {
   "cell_type": "code",
   "execution_count": null,
   "metadata": {
    "colab": {},
    "colab_type": "code",
    "id": "vjyPT7GVNVFb"
   },
   "outputs": [],
   "source": [
    "Pro75M1670.info()"
   ]
  },
  {
   "attachments": {},
   "cell_type": "markdown",
   "metadata": {
    "colab_type": "text",
    "id": "kN7y1EwLNVFf"
   },
   "source": [
    "### Creating a Rocket\n"
   ]
  },
  {
   "attachments": {},
   "cell_type": "markdown",
   "metadata": {
    "colab_type": "text",
    "id": "_Ee-0vb5NVFg"
   },
   "source": [
    "A rocket is composed of several components. Namely, we must have a motor (good thing we have the Pro75M1670 ready), a couple of aerodynamic surfaces (nose cone, fins and tail) and parachutes (if we are not launching a missile).\n",
    "\n",
    "You can find more information about the `Rocket` class in the [Rocket Class Usage Docs](https://docs.rocketpy.org/en/latest/user/rocket.html).\n",
    "\n",
    "Let's start by initializing our rocket, named Calisto, entering inertia properties, some dimensions and drag curves.\n",
    "\n",
    "**Pay special attention to _position_ related parameters:**\n",
    "More details on [Positions and Coordinate Systems](https://docs.rocketpy.org/en/latest/user/positions.html)\n"
   ]
  },
  {
   "cell_type": "code",
   "execution_count": null,
   "metadata": {
    "colab": {},
    "colab_type": "code",
    "id": "D1fyK8u_NVFh"
   },
   "outputs": [],
   "source": [
    "# IMPORTANT: modify the file paths below to match your own system\n",
    "\n",
    "calisto = Rocket(\n",
    "    radius=127 / 2000,\n",
    "    mass=14.426,\n",
    "    inertia=(6.321, 6.321, 0.034),\n",
    "    power_off_drag=\"../../data/calisto/powerOffDragCurve.csv\",\n",
    "    power_on_drag=\"../../data/calisto/powerOnDragCurve.csv\",\n",
    "    center_of_mass_without_motor=0,\n",
    "    coordinate_system_orientation=\"tail_to_nose\",\n",
    ")\n",
    "\n",
    "rail_buttons = calisto.set_rail_buttons(\n",
    "    upper_button_position=0.0818,\n",
    "    lower_button_position=-0.618,\n",
    "    angular_position=45,\n",
    ")"
   ]
  },
  {
   "attachments": {},
   "cell_type": "markdown",
   "metadata": {},
   "source": [
    "To add the motor to our rocket we need only inform what motor we are adding (Pro75M1670) and inform the position, in meters, of the motor's nozzle exit area relative to the previously defined coordinate system.\n"
   ]
  },
  {
   "cell_type": "code",
   "execution_count": null,
   "metadata": {},
   "outputs": [],
   "source": [
    "calisto.add_motor(Pro75M1670, position=-1.255)"
   ]
  },
  {
   "attachments": {},
   "cell_type": "markdown",
   "metadata": {
    "colab_type": "text",
    "id": "CfOfqmroNVFk"
   },
   "source": [
    "#### Adding Aerodynamic Surfaces\n"
   ]
  },
  {
   "attachments": {},
   "cell_type": "markdown",
   "metadata": {
    "colab_type": "text",
    "id": "LuUdEmWhNVFl"
   },
   "source": [
    "Now we define the aerodynamic surfaces. They are really straight forward with special attention needed only for the position values. Here is a quick guide:\n",
    "\n",
    "- The positions given **must** be relative to the same coordinate system as the rockets;\n",
    "- Position of the Nosecone refers to the tip of the nose;\n",
    "- Position of fins refers to the point belonging to the root chord which is highest in the rocket coordinate system;\n",
    "- Position of the tail the point belonging to the tail which is highest in the rocket coordinate system.\n",
    "\n",
    "See more details in [Positions and Coordinate Systems](https://docs.rocketpy.org/en/latest/user/positions.html)\n"
   ]
  },
  {
   "cell_type": "code",
   "execution_count": null,
   "metadata": {
    "colab": {},
    "colab_type": "code",
    "id": "AQbv244VNVFm"
   },
   "outputs": [],
   "source": [
    "nose_cone = calisto.add_nose(length=0.55829, kind=\"vonKarman\", position=1.278)\n",
    "\n",
    "# IMPORTANT: modify the file path below to match your own system\n",
    "fin_set = calisto.add_trapezoidal_fins(\n",
    "    n=4,\n",
    "    root_chord=0.120,\n",
    "    tip_chord=0.060,\n",
    "    span=0.110,\n",
    "    position=-1.04956,\n",
    "    cant_angle=0.5,\n",
    "    airfoil=(\"../../data/calisto/NACA0012-radians.csv\", \"radians\"),\n",
    ")\n",
    "\n",
    "tail = calisto.add_tail(\n",
    "    top_radius=0.0635, bottom_radius=0.0435, length=0.060, position=-1.194656\n",
    ")"
   ]
  },
  {
   "attachments": {},
   "cell_type": "markdown",
   "metadata": {},
   "source": [
    "To see all information regarding the rocket we just defined we run:\n"
   ]
  },
  {
   "cell_type": "code",
   "execution_count": null,
   "metadata": {},
   "outputs": [],
   "source": [
    "calisto.all_info()"
   ]
  },
  {
   "attachments": {},
   "cell_type": "markdown",
   "metadata": {
    "colab_type": "text",
    "id": "D8oKc7s2NVFp"
   },
   "source": [
    "#### Adding Parachutes\n"
   ]
  },
  {
   "attachments": {},
   "cell_type": "markdown",
   "metadata": {
    "colab_type": "text",
    "id": "IxAX61ZENVFq"
   },
   "source": [
    "Finally, we have parachutes! Calisto will have two parachutes, Drogue and Main. The Drogue parachute will open at apogee while the Main parachute will open at 800m above ground level\n",
    "\n",
    "For more details see [Adding Parachutes](https://docs.rocketpy.org/en/latest/user/rocket.html#adding-parachutes)\n"
   ]
  },
  {
   "cell_type": "code",
   "execution_count": null,
   "metadata": {
    "colab": {},
    "colab_type": "code",
    "id": "f0PmLcF8NVFr"
   },
   "outputs": [],
   "source": [
    "Main = calisto.add_parachute(\n",
    "    \"Main\",\n",
    "    cd_s=10.0,\n",
    "    trigger=800,\n",
    "    sampling_rate=105,\n",
    "    lag=1.5,\n",
    "    noise=(0, 8.3, 0.5),\n",
    ")\n",
    "\n",
    "Drogue = calisto.add_parachute(\n",
    "    \"Drogue\",\n",
    "    cd_s=1.0,\n",
    "    trigger=\"apogee\",\n",
    "    sampling_rate=105,\n",
    "    lag=1.5,\n",
    "    noise=(0, 8.3, 0.5),\n",
    ")"
   ]
  },
  {
   "attachments": {},
   "cell_type": "markdown",
   "metadata": {
    "colab_type": "text",
    "id": "xIoXe33FNVFv"
   },
   "source": [
    "Just be careful if you run this last cell multiple times! If you do so, your rocket will end up with lots of parachutes which activate together, which may cause problems during the flight simulation. We advise you to re-run all cells which define our rocket before running this, preventing unwanted old parachutes. Alternatively, you can run the following lines to remove parachutes.\n",
    "\n",
    "```python\n",
    "Calisto.parachutes.remove(Drogue)\n",
    "Calisto.parachutes.remove(Main)\n",
    "```\n"
   ]
  },
  {
   "attachments": {},
   "cell_type": "markdown",
   "metadata": {
    "colab_type": "text",
    "id": "4PR0fgSbNVFw"
   },
   "source": [
    "## Simulating a Flight\n",
    "\n",
    "Simulating a flight trajectory is as simple as initializing a Flight class object givin the rocket and environnement set up above as inputs. The launch rail inclination and heading are also given here.\n"
   ]
  },
  {
   "cell_type": "code",
   "execution_count": null,
   "metadata": {
    "colab": {},
    "colab_type": "code",
    "id": "v__Ud2p2NVFx"
   },
   "outputs": [],
   "source": [
    "test_flight = Flight(\n",
    "    rocket=calisto, environment=env, rail_length=5.2, inclination=85, heading=0\n",
    ")"
   ]
  },
  {
   "attachments": {},
   "cell_type": "markdown",
   "metadata": {
    "colab_type": "text",
    "id": "8SjrGQqzNVF0"
   },
   "source": [
    "## Analyzing the Results\n",
    "\n",
    "RocketPy gives you many plots, thats for sure! They are divided into sections to keep them organized. Alternatively, see the Flight class documentation to see how to get plots for specific variables only, instead of all of them at once.\n"
   ]
  },
  {
   "cell_type": "code",
   "execution_count": null,
   "metadata": {
    "colab": {},
    "colab_type": "code",
    "id": "Hh4A_RQzNVF0",
    "scrolled": false
   },
   "outputs": [],
   "source": [
    "test_flight.all_info()"
   ]
  },
  {
   "attachments": {},
   "cell_type": "markdown",
   "metadata": {},
   "source": [
    "Export Flight Trajectory to a .kml file so it can be opened on Google Earth\n"
   ]
  },
  {
   "cell_type": "code",
   "execution_count": null,
   "metadata": {},
   "outputs": [],
   "source": [
    "test_flight.export_kml(\n",
    "    file_name=\"trajectory.kml\",\n",
    "    extrude=True,\n",
    "    altitude_mode=\"relative_to_ground\",\n",
    ")"
   ]
  },
  {
   "attachments": {},
   "cell_type": "markdown",
   "metadata": {
    "colab_type": "text",
    "id": "Aun9D2OINVF4"
   },
   "source": [
    "## Using Simulation for Design\n",
    "\n",
    "Here, we go through a couple of examples which make use of RocketPy in cool ways to help us design our rocket.\n"
   ]
  },
  {
   "cell_type": "markdown",
   "metadata": {},
   "source": [
    "### Apogee as a Function of Mass\n",
    "\n",
    "This one is a classic one! We always need to know how much our rocket's apogee will change when our payload gets heavier.\n"
   ]
  },
  {
   "cell_type": "code",
   "execution_count": null,
   "metadata": {},
   "outputs": [],
   "source": [
    "from rocketpy.utilities import apogee_by_mass\n",
    "\n",
    "apogee_by_mass(flight=test_flight, min_mass=5, max_mass=20, points=10, plot=True)"
   ]
  },
  {
   "cell_type": "markdown",
   "metadata": {},
   "source": [
    "### Out of Rail Speed as a Function of Mass\n",
    "\n",
    "Lets make a really important plot. Out of rail speed is the speed our rocket has when it is leaving the launch rail. This is crucial to make sure it can fly safely after leaving the rail. A common rule of thumb is that our rocket's out of rail speed should be 4 times the wind speed so that it does not stall and become unstable.\n"
   ]
  },
  {
   "cell_type": "code",
   "execution_count": null,
   "metadata": {},
   "outputs": [],
   "source": [
    "from rocketpy.utilities import liftoff_speed_by_mass\n",
    "\n",
    "liftoff_speed_by_mass(flight=test_flight, min_mass=5, max_mass=20, points=10, plot=True)"
   ]
  },
  {
   "attachments": {},
   "cell_type": "markdown",
   "metadata": {
    "colab_type": "text",
    "id": "gcT43lt2NVF5"
   },
   "source": [
    "### Dynamic Stability Analysis\n",
    "\n",
    "Ever wondered how static stability translates into dynamic stability? Different static margins result in different dynamic behavior, which also depends on the rocket's rotational inertial.\n",
    "\n",
    "Let's make use of RocketPy's helper class called Function to explore how the dynamic stability of Calisto varies if we change the fins span by a certain factor.\n"
   ]
  },
  {
   "cell_type": "code",
   "execution_count": null,
   "metadata": {
    "colab": {},
    "colab_type": "code",
    "id": "ULLEtVz7NVF7"
   },
   "outputs": [],
   "source": [
    "# Helper class\n",
    "from rocketpy import Function\n",
    "import copy\n",
    "\n",
    "# Prepare a copy of the rocket\n",
    "calisto2 = copy.deepcopy(calisto)\n",
    "\n",
    "# Prepare Environment Class\n",
    "custom_env = Environment()\n",
    "custom_env.set_atmospheric_model(type=\"custom_atmosphere\", wind_v=-5)\n",
    "\n",
    "# Simulate Different Static Margins by Varying Fin Position\n",
    "simulation_results = []\n",
    "\n",
    "for factor in [-0.5, -0.2, 0.1, 0.4, 0.7]:\n",
    "    # Modify rocket fin set by removing previous one and adding new one\n",
    "    calisto2.aerodynamic_surfaces.pop(-1)\n",
    "\n",
    "    fin_set = calisto2.add_trapezoidal_fins(\n",
    "        n=4,\n",
    "        root_chord=0.120,\n",
    "        tip_chord=0.040,\n",
    "        span=0.100,\n",
    "        position=-1.04956 * factor,\n",
    "    )\n",
    "    # Simulate\n",
    "    print(\n",
    "        \"Simulating Rocket with Static Margin of {:1.3f}->{:1.3f} c\".format(\n",
    "            calisto2.static_margin(0),\n",
    "            calisto2.static_margin(calisto2.motor.burn_out_time),\n",
    "        )\n",
    "    )\n",
    "    test_flight = Flight(\n",
    "        rocket=calisto2,\n",
    "        environment=custom_env,\n",
    "        rail_length=5.2,\n",
    "        inclination=90,\n",
    "        heading=0,\n",
    "        max_time_step=0.01,\n",
    "        max_time=5,\n",
    "        terminate_on_apogee=True,\n",
    "        verbose=True,\n",
    "    )\n",
    "    # Store Results\n",
    "    static_margin_at_ignition = calisto2.static_margin(0)\n",
    "    static_margin_at_out_of_rail = calisto2.static_margin(test_flight.out_of_rail_time)\n",
    "    static_margin_at_steady_state = calisto2.static_margin(test_flight.t_final)\n",
    "    simulation_results += [\n",
    "        (\n",
    "            test_flight.attitude_angle,\n",
    "            \"{:1.2f} c | {:1.2f} c | {:1.2f} c\".format(\n",
    "                static_margin_at_ignition,\n",
    "                static_margin_at_out_of_rail,\n",
    "                static_margin_at_steady_state,\n",
    "            ),\n",
    "        )\n",
    "    ]\n",
    "\n",
    "Function.compare_plots(\n",
    "    simulation_results,\n",
    "    lower=0,\n",
    "    upper=1.5,\n",
    "    xlabel=\"Time (s)\",\n",
    "    ylabel=\"Attitude Angle (deg)\",\n",
    ")"
   ]
  },
  {
   "attachments": {},
   "cell_type": "markdown",
   "metadata": {
    "colab_type": "text",
    "id": "WHIeM9f3NVF_"
   },
   "source": [
    "### Characteristic Frequency Calculation\n",
    "\n",
    "Here we analyse the characteristic frequency of oscillation of our rocket just as it leaves the launch rail. Note that when we ran test_flight.all_info(), one of the plots already showed us the frequency spectrum of our flight. Here, however, we have more control of what we are plotting.\n"
   ]
  },
  {
   "cell_type": "code",
   "execution_count": null,
   "metadata": {
    "colab": {},
    "colab_type": "code",
    "id": "OJdN2XMANVGA"
   },
   "outputs": [],
   "source": [
    "import numpy as np\n",
    "import matplotlib.pyplot as plt\n",
    "\n",
    "# Simulate first 5 seconds of Flight\n",
    "flight = Flight(\n",
    "    rocket=calisto,\n",
    "    environment=env,\n",
    "    rail_length=5.2,\n",
    "    inclination=90,\n",
    "    heading=0,\n",
    "    max_time_step=0.01,\n",
    "    max_time=5,\n",
    ")\n",
    "\n",
    "# Perform a Fourier Analysis\n",
    "Fs = 100.0\n",
    "# sampling rate\n",
    "Ts = 1.0 / Fs\n",
    "# sampling interval\n",
    "t = np.arange(1, 400, Ts)  # time vector\n",
    "ff = 5\n",
    "# frequency of the signal\n",
    "y = flight.attitude_angle(t) - np.mean(flight.attitude_angle(t))\n",
    "n = len(y)  # length of the signal\n",
    "k = np.arange(n)\n",
    "T = n / Fs\n",
    "frq = k / T  # two sides frequency range\n",
    "frq = frq[range(n // 2)]  # one side frequency range\n",
    "Y = np.fft.fft(y) / n  # fft computing and normalization\n",
    "Y = Y[range(n // 2)]\n",
    "\n",
    "# Create the plot\n",
    "fig, ax = plt.subplots(2, 1)\n",
    "ax[0].plot(t, y)\n",
    "ax[0].set_xlabel(\"Time\")\n",
    "ax[0].set_ylabel(\"Signal\")\n",
    "ax[0].set_xlim((0, 5))\n",
    "ax[0].grid()\n",
    "ax[1].plot(frq, abs(Y), \"r\")  # plotting the spectrum\n",
    "ax[1].set_xlabel(\"Freq (Hz)\")\n",
    "ax[1].set_ylabel(\"|Y(freq)|\")\n",
    "ax[1].set_xlim((0, 5))\n",
    "ax[1].grid()\n",
    "plt.subplots_adjust(hspace=0.5)\n",
    "plt.show()"
   ]
  }
 ],
 "metadata": {
  "colab": {
   "name": "getting_started.ipynb",
   "provenance": [],
   "toc_visible": true
  },
  "hide_input": false,
  "kernelspec": {
   "display_name": "Python 3.10.0 ('rocketpy_dev')",
   "language": "python",
   "name": "python3"
  },
  "language_info": {
   "codemirror_mode": {
    "name": "ipython",
    "version": 3
   },
   "file_extension": ".py",
   "mimetype": "text/x-python",
   "name": "python",
   "nbconvert_exporter": "python",
   "pygments_lexer": "ipython3",
   "version": "3.12.4"
  },
  "vscode": {
   "interpreter": {
    "hash": "18e93d5347af13ace37d47ea4e2a2ad720f0331bd9cb28f9983f5585f4dfaa5c"
   }
  }
 },
 "nbformat": 4,
 "nbformat_minor": 2
}
